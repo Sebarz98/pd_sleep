{
 "cells": [
  {
   "cell_type": "markdown",
   "metadata": {},
   "source": [
    "# Data Download"
   ]
  },
  {
   "cell_type": "code",
   "execution_count": 1,
   "metadata": {},
   "outputs": [],
   "source": [
    "import numpy as np\n",
    "import pandas as pd\n",
    "import matplotlib.pyplot as plt\n",
    "import seaborn as sns\n",
    "import sklearn as sk\n",
    "from scipy import stats"
   ]
  },
  {
   "cell_type": "code",
   "execution_count": 2,
   "metadata": {},
   "outputs": [],
   "source": [
    "path = \"./data/\"\n",
    "\n",
    "df = pd.read_csv(path + \"VBM_data.csv\")\n",
    "df=df.drop(columns=['Unnamed: 0'])"
   ]
  },
  {
   "cell_type": "code",
   "execution_count": 3,
   "metadata": {},
   "outputs": [
    {
     "data": {
      "text/html": [
       "<div>\n",
       "<style scoped>\n",
       "    .dataframe tbody tr th:only-of-type {\n",
       "        vertical-align: middle;\n",
       "    }\n",
       "\n",
       "    .dataframe tbody tr th {\n",
       "        vertical-align: top;\n",
       "    }\n",
       "\n",
       "    .dataframe thead th {\n",
       "        text-align: right;\n",
       "    }\n",
       "</style>\n",
       "<table border=\"1\" class=\"dataframe\">\n",
       "  <thead>\n",
       "    <tr style=\"text-align: right;\">\n",
       "      <th></th>\n",
       "      <th>Subjectt</th>\n",
       "      <th>Sex</th>\n",
       "      <th>Age</th>\n",
       "      <th>PD</th>\n",
       "      <th>Chr</th>\n",
       "      <th>PSQI</th>\n",
       "      <th>Scale factor</th>\n",
       "      <th>SNR</th>\n",
       "      <th>White Matter (WM) volume cm3</th>\n",
       "      <th>White Matter (WM) volume %</th>\n",
       "      <th>...</th>\n",
       "      <th>FO left thickness mm</th>\n",
       "      <th>FO left thickness norm.</th>\n",
       "      <th>FO thickness asymmetry</th>\n",
       "      <th>PO total thickness mm</th>\n",
       "      <th>PO total thickness norm.</th>\n",
       "      <th>PO right thickness mm</th>\n",
       "      <th>PO right thickness norm.</th>\n",
       "      <th>PO left thickness mm</th>\n",
       "      <th>PO left thickness norm.</th>\n",
       "      <th>PO thickness asymmetry</th>\n",
       "    </tr>\n",
       "  </thead>\n",
       "  <tbody>\n",
       "    <tr>\n",
       "      <th>0</th>\n",
       "      <td>PPMI101179</td>\n",
       "      <td>Female</td>\n",
       "      <td>44</td>\n",
       "      <td>1</td>\n",
       "      <td>Nan</td>\n",
       "      <td>0</td>\n",
       "      <td>0.67171</td>\n",
       "      <td>35.8221</td>\n",
       "      <td>481.4425</td>\n",
       "      <td>40.878</td>\n",
       "      <td>...</td>\n",
       "      <td>2.7041</td>\n",
       "      <td>0.025606</td>\n",
       "      <td>-3.4439</td>\n",
       "      <td>1.8278</td>\n",
       "      <td>0.017308</td>\n",
       "      <td>1.4594</td>\n",
       "      <td>0.013820</td>\n",
       "      <td>2.0369</td>\n",
       "      <td>0.019288</td>\n",
       "      <td>-33.034</td>\n",
       "    </tr>\n",
       "    <tr>\n",
       "      <th>1</th>\n",
       "      <td>PPMI3130</td>\n",
       "      <td>Male</td>\n",
       "      <td>44</td>\n",
       "      <td>1</td>\n",
       "      <td>Nan</td>\n",
       "      <td>0</td>\n",
       "      <td>0.85944</td>\n",
       "      <td>18.1954</td>\n",
       "      <td>578.9324</td>\n",
       "      <td>36.0925</td>\n",
       "      <td>...</td>\n",
       "      <td>2.9227</td>\n",
       "      <td>0.024967</td>\n",
       "      <td>6.0559</td>\n",
       "      <td>2.2804</td>\n",
       "      <td>0.019481</td>\n",
       "      <td>2.2139</td>\n",
       "      <td>0.018913</td>\n",
       "      <td>2.3358</td>\n",
       "      <td>0.019954</td>\n",
       "      <td>-5.3568</td>\n",
       "    </tr>\n",
       "    <tr>\n",
       "      <th>2</th>\n",
       "      <td>PPMI3134</td>\n",
       "      <td>Male</td>\n",
       "      <td>39</td>\n",
       "      <td>1</td>\n",
       "      <td>Nan</td>\n",
       "      <td>0</td>\n",
       "      <td>0.81835</td>\n",
       "      <td>16.9461</td>\n",
       "      <td>598.0345</td>\n",
       "      <td>39.2921</td>\n",
       "      <td>...</td>\n",
       "      <td>2.6008</td>\n",
       "      <td>0.022610</td>\n",
       "      <td>-5.6116</td>\n",
       "      <td>2.3824</td>\n",
       "      <td>0.020711</td>\n",
       "      <td>2.4315</td>\n",
       "      <td>0.021138</td>\n",
       "      <td>2.3343</td>\n",
       "      <td>0.020293</td>\n",
       "      <td>4.0799</td>\n",
       "    </tr>\n",
       "    <tr>\n",
       "      <th>3</th>\n",
       "      <td>PPMI3364</td>\n",
       "      <td>Female</td>\n",
       "      <td>39</td>\n",
       "      <td>1</td>\n",
       "      <td>Nan</td>\n",
       "      <td>0</td>\n",
       "      <td>0.75126</td>\n",
       "      <td>28.6519</td>\n",
       "      <td>527.2022</td>\n",
       "      <td>37.5087</td>\n",
       "      <td>...</td>\n",
       "      <td>3.2739</td>\n",
       "      <td>0.029227</td>\n",
       "      <td>-6.6191</td>\n",
       "      <td>2.1569</td>\n",
       "      <td>0.019255</td>\n",
       "      <td>2.1986</td>\n",
       "      <td>0.019627</td>\n",
       "      <td>2.1159</td>\n",
       "      <td>0.018890</td>\n",
       "      <td>3.8304</td>\n",
       "    </tr>\n",
       "    <tr>\n",
       "      <th>4</th>\n",
       "      <td>PPMI3400</td>\n",
       "      <td>Female</td>\n",
       "      <td>39</td>\n",
       "      <td>1</td>\n",
       "      <td>Nan</td>\n",
       "      <td>0</td>\n",
       "      <td>0.79245</td>\n",
       "      <td>169,802</td>\n",
       "      <td>564.1163</td>\n",
       "      <td>39.1742</td>\n",
       "      <td>...</td>\n",
       "      <td>2,735</td>\n",
       "      <td>0.024220</td>\n",
       "      <td>7.2702</td>\n",
       "      <td>2.3758</td>\n",
       "      <td>0.021039</td>\n",
       "      <td>2.3881</td>\n",
       "      <td>0.021147</td>\n",
       "      <td>2.3646</td>\n",
       "      <td>0.020940</td>\n",
       "      <td>0.98577</td>\n",
       "    </tr>\n",
       "  </tbody>\n",
       "</table>\n",
       "<p>5 rows × 933 columns</p>\n",
       "</div>"
      ],
      "text/plain": [
       "     Subjectt     Sex  Age  PD  Chr  PSQI  Scale factor      SNR  \\\n",
       "0  PPMI101179  Female   44   1  Nan     0       0.67171  35.8221   \n",
       "1    PPMI3130    Male   44   1  Nan     0       0.85944  18.1954   \n",
       "2    PPMI3134    Male   39   1  Nan     0       0.81835  16.9461   \n",
       "3    PPMI3364  Female   39   1  Nan     0       0.75126  28.6519   \n",
       "4    PPMI3400  Female   39   1  Nan     0       0.79245  169,802   \n",
       "\n",
       "  White Matter (WM) volume cm3 White Matter (WM) volume %  ...  \\\n",
       "0                     481.4425                     40.878  ...   \n",
       "1                     578.9324                    36.0925  ...   \n",
       "2                     598.0345                    39.2921  ...   \n",
       "3                     527.2022                    37.5087  ...   \n",
       "4                     564.1163                    39.1742  ...   \n",
       "\n",
       "  FO left thickness mm FO left thickness norm.  FO thickness asymmetry  \\\n",
       "0               2.7041                0.025606                 -3.4439   \n",
       "1               2.9227                0.024967                  6.0559   \n",
       "2               2.6008                0.022610                 -5.6116   \n",
       "3               3.2739                0.029227                 -6.6191   \n",
       "4                2,735                0.024220                  7.2702   \n",
       "\n",
       "   PO total thickness mm PO total thickness norm.  PO right thickness mm  \\\n",
       "0                 1.8278                 0.017308                 1.4594   \n",
       "1                 2.2804                 0.019481                 2.2139   \n",
       "2                 2.3824                 0.020711                 2.4315   \n",
       "3                 2.1569                 0.019255                 2.1986   \n",
       "4                 2.3758                 0.021039                 2.3881   \n",
       "\n",
       "  PO right thickness norm. PO left thickness mm PO left thickness norm.  \\\n",
       "0                 0.013820               2.0369                0.019288   \n",
       "1                 0.018913               2.3358                0.019954   \n",
       "2                 0.021138               2.3343                0.020293   \n",
       "3                 0.019627               2.1159                0.018890   \n",
       "4                 0.021147               2.3646                0.020940   \n",
       "\n",
       "  PO thickness asymmetry  \n",
       "0                -33.034  \n",
       "1                -5.3568  \n",
       "2                 4.0799  \n",
       "3                 3.8304  \n",
       "4                0.98577  \n",
       "\n",
       "[5 rows x 933 columns]"
      ]
     },
     "execution_count": 3,
     "metadata": {},
     "output_type": "execute_result"
    }
   ],
   "source": [
    "df.head()"
   ]
  },
  {
   "cell_type": "code",
   "execution_count": 4,
   "metadata": {},
   "outputs": [
    {
     "data": {
      "text/html": [
       "<div>\n",
       "<style scoped>\n",
       "    .dataframe tbody tr th:only-of-type {\n",
       "        vertical-align: middle;\n",
       "    }\n",
       "\n",
       "    .dataframe tbody tr th {\n",
       "        vertical-align: top;\n",
       "    }\n",
       "\n",
       "    .dataframe thead th {\n",
       "        text-align: right;\n",
       "    }\n",
       "</style>\n",
       "<table border=\"1\" class=\"dataframe\">\n",
       "  <thead>\n",
       "    <tr style=\"text-align: right;\">\n",
       "      <th></th>\n",
       "      <th>Subjectt</th>\n",
       "      <th>Sex</th>\n",
       "      <th>Age</th>\n",
       "      <th>PD</th>\n",
       "      <th>Chr</th>\n",
       "      <th>PSQI</th>\n",
       "      <th>Scale factor</th>\n",
       "      <th>SNR</th>\n",
       "      <th>White Matter (WM) volume cm3</th>\n",
       "      <th>White Matter (WM) volume %</th>\n",
       "      <th>...</th>\n",
       "      <th>FO left thickness mm</th>\n",
       "      <th>FO left thickness norm.</th>\n",
       "      <th>FO thickness asymmetry</th>\n",
       "      <th>PO total thickness mm</th>\n",
       "      <th>PO total thickness norm.</th>\n",
       "      <th>PO right thickness mm</th>\n",
       "      <th>PO right thickness norm.</th>\n",
       "      <th>PO left thickness mm</th>\n",
       "      <th>PO left thickness norm.</th>\n",
       "      <th>PO thickness asymmetry</th>\n",
       "    </tr>\n",
       "  </thead>\n",
       "  <tbody>\n",
       "    <tr>\n",
       "      <th>0</th>\n",
       "      <td>0</td>\n",
       "      <td>0</td>\n",
       "      <td>44</td>\n",
       "      <td>1</td>\n",
       "      <td>2</td>\n",
       "      <td>0</td>\n",
       "      <td>0.67171</td>\n",
       "      <td>35.8221</td>\n",
       "      <td>481.4425</td>\n",
       "      <td>40.8780</td>\n",
       "      <td>...</td>\n",
       "      <td>2.7041</td>\n",
       "      <td>0.025606</td>\n",
       "      <td>-3.4439</td>\n",
       "      <td>1.8278</td>\n",
       "      <td>0.017308</td>\n",
       "      <td>1.4594</td>\n",
       "      <td>0.013820</td>\n",
       "      <td>2.0369</td>\n",
       "      <td>0.019288</td>\n",
       "      <td>-33.03400</td>\n",
       "    </tr>\n",
       "    <tr>\n",
       "      <th>1</th>\n",
       "      <td>1</td>\n",
       "      <td>1</td>\n",
       "      <td>44</td>\n",
       "      <td>1</td>\n",
       "      <td>2</td>\n",
       "      <td>0</td>\n",
       "      <td>0.85944</td>\n",
       "      <td>18.1954</td>\n",
       "      <td>578.9324</td>\n",
       "      <td>36.0925</td>\n",
       "      <td>...</td>\n",
       "      <td>2.9227</td>\n",
       "      <td>0.024967</td>\n",
       "      <td>6.0559</td>\n",
       "      <td>2.2804</td>\n",
       "      <td>0.019481</td>\n",
       "      <td>2.2139</td>\n",
       "      <td>0.018913</td>\n",
       "      <td>2.3358</td>\n",
       "      <td>0.019954</td>\n",
       "      <td>-5.35680</td>\n",
       "    </tr>\n",
       "    <tr>\n",
       "      <th>2</th>\n",
       "      <td>2</td>\n",
       "      <td>1</td>\n",
       "      <td>39</td>\n",
       "      <td>1</td>\n",
       "      <td>2</td>\n",
       "      <td>0</td>\n",
       "      <td>0.81835</td>\n",
       "      <td>16.9461</td>\n",
       "      <td>598.0345</td>\n",
       "      <td>39.2921</td>\n",
       "      <td>...</td>\n",
       "      <td>2.6008</td>\n",
       "      <td>0.022610</td>\n",
       "      <td>-5.6116</td>\n",
       "      <td>2.3824</td>\n",
       "      <td>0.020711</td>\n",
       "      <td>2.4315</td>\n",
       "      <td>0.021138</td>\n",
       "      <td>2.3343</td>\n",
       "      <td>0.020293</td>\n",
       "      <td>4.07990</td>\n",
       "    </tr>\n",
       "    <tr>\n",
       "      <th>3</th>\n",
       "      <td>3</td>\n",
       "      <td>0</td>\n",
       "      <td>39</td>\n",
       "      <td>1</td>\n",
       "      <td>2</td>\n",
       "      <td>0</td>\n",
       "      <td>0.75126</td>\n",
       "      <td>28.6519</td>\n",
       "      <td>527.2022</td>\n",
       "      <td>37.5087</td>\n",
       "      <td>...</td>\n",
       "      <td>3.2739</td>\n",
       "      <td>0.029227</td>\n",
       "      <td>-6.6191</td>\n",
       "      <td>2.1569</td>\n",
       "      <td>0.019255</td>\n",
       "      <td>2.1986</td>\n",
       "      <td>0.019627</td>\n",
       "      <td>2.1159</td>\n",
       "      <td>0.018890</td>\n",
       "      <td>3.83040</td>\n",
       "    </tr>\n",
       "    <tr>\n",
       "      <th>4</th>\n",
       "      <td>4</td>\n",
       "      <td>0</td>\n",
       "      <td>39</td>\n",
       "      <td>1</td>\n",
       "      <td>2</td>\n",
       "      <td>0</td>\n",
       "      <td>0.79245</td>\n",
       "      <td>169802.0000</td>\n",
       "      <td>564.1163</td>\n",
       "      <td>39.1742</td>\n",
       "      <td>...</td>\n",
       "      <td>2735.0000</td>\n",
       "      <td>0.024220</td>\n",
       "      <td>7.2702</td>\n",
       "      <td>2.3758</td>\n",
       "      <td>0.021039</td>\n",
       "      <td>2.3881</td>\n",
       "      <td>0.021147</td>\n",
       "      <td>2.3646</td>\n",
       "      <td>0.020940</td>\n",
       "      <td>0.98577</td>\n",
       "    </tr>\n",
       "  </tbody>\n",
       "</table>\n",
       "<p>5 rows × 933 columns</p>\n",
       "</div>"
      ],
      "text/plain": [
       "   Subjectt  Sex  Age  PD  Chr  PSQI  Scale factor          SNR  \\\n",
       "0         0    0   44   1    2     0       0.67171      35.8221   \n",
       "1         1    1   44   1    2     0       0.85944      18.1954   \n",
       "2         2    1   39   1    2     0       0.81835      16.9461   \n",
       "3         3    0   39   1    2     0       0.75126      28.6519   \n",
       "4         4    0   39   1    2     0       0.79245  169802.0000   \n",
       "\n",
       "   White Matter (WM) volume cm3  White Matter (WM) volume %  ...  \\\n",
       "0                      481.4425                     40.8780  ...   \n",
       "1                      578.9324                     36.0925  ...   \n",
       "2                      598.0345                     39.2921  ...   \n",
       "3                      527.2022                     37.5087  ...   \n",
       "4                      564.1163                     39.1742  ...   \n",
       "\n",
       "   FO left thickness mm  FO left thickness norm.  FO thickness asymmetry  \\\n",
       "0                2.7041                 0.025606                 -3.4439   \n",
       "1                2.9227                 0.024967                  6.0559   \n",
       "2                2.6008                 0.022610                 -5.6116   \n",
       "3                3.2739                 0.029227                 -6.6191   \n",
       "4             2735.0000                 0.024220                  7.2702   \n",
       "\n",
       "   PO total thickness mm  PO total thickness norm.  PO right thickness mm  \\\n",
       "0                 1.8278                  0.017308                 1.4594   \n",
       "1                 2.2804                  0.019481                 2.2139   \n",
       "2                 2.3824                  0.020711                 2.4315   \n",
       "3                 2.1569                  0.019255                 2.1986   \n",
       "4                 2.3758                  0.021039                 2.3881   \n",
       "\n",
       "   PO right thickness norm.  PO left thickness mm  PO left thickness norm.  \\\n",
       "0                  0.013820                2.0369                 0.019288   \n",
       "1                  0.018913                2.3358                 0.019954   \n",
       "2                  0.021138                2.3343                 0.020293   \n",
       "3                  0.019627                2.1159                 0.018890   \n",
       "4                  0.021147                2.3646                 0.020940   \n",
       "\n",
       "   PO thickness asymmetry  \n",
       "0               -33.03400  \n",
       "1                -5.35680  \n",
       "2                 4.07990  \n",
       "3                 3.83040  \n",
       "4                 0.98577  \n",
       "\n",
       "[5 rows x 933 columns]"
      ]
     },
     "execution_count": 4,
     "metadata": {},
     "output_type": "execute_result"
    }
   ],
   "source": [
    "from sklearn.preprocessing import LabelEncoder\n",
    "categ = ['Subjectt','Sex','Chr']\n",
    "\n",
    "le = LabelEncoder()\n",
    "df[categ] = df[categ].apply(le.fit_transform)\n",
    "\n",
    "for column in df.columns:\n",
    "    if df[column].dtype == \"object\":\n",
    "        df[column] = df[column].apply(lambda x: str(x.replace(\",\", \"\")))\n",
    "        df[column] =df[column].astype(\"float\")\n",
    "\n",
    "df.head()"
   ]
  },
  {
   "cell_type": "markdown",
   "metadata": {},
   "source": [
    "# T-test with Pathology and ICV"
   ]
  },
  {
   "cell_type": "code",
   "execution_count": 7,
   "metadata": {},
   "outputs": [],
   "source": [
    "pd = df.query('PD == 1')['Intracranial Cavity (IC) volume cm3']\n",
    "sleep = df.query('PD == 0')['Intracranial Cavity (IC) volume cm3']"
   ]
  },
  {
   "cell_type": "code",
   "execution_count": 8,
   "metadata": {},
   "outputs": [
    {
     "data": {
      "text/html": [
       "<div>\n",
       "<style scoped>\n",
       "    .dataframe tbody tr th:only-of-type {\n",
       "        vertical-align: middle;\n",
       "    }\n",
       "\n",
       "    .dataframe tbody tr th {\n",
       "        vertical-align: top;\n",
       "    }\n",
       "\n",
       "    .dataframe thead tr th {\n",
       "        text-align: left;\n",
       "    }\n",
       "\n",
       "    .dataframe thead tr:last-of-type th {\n",
       "        text-align: right;\n",
       "    }\n",
       "</style>\n",
       "<table border=\"1\" class=\"dataframe\">\n",
       "  <thead>\n",
       "    <tr>\n",
       "      <th></th>\n",
       "      <th colspan=\"8\" halign=\"left\">Subjectt</th>\n",
       "      <th colspan=\"2\" halign=\"left\">Sex</th>\n",
       "      <th>...</th>\n",
       "      <th colspan=\"2\" halign=\"left\">PO left thickness norm.</th>\n",
       "      <th colspan=\"8\" halign=\"left\">PO thickness asymmetry</th>\n",
       "    </tr>\n",
       "    <tr>\n",
       "      <th></th>\n",
       "      <th>count</th>\n",
       "      <th>mean</th>\n",
       "      <th>std</th>\n",
       "      <th>min</th>\n",
       "      <th>25%</th>\n",
       "      <th>50%</th>\n",
       "      <th>75%</th>\n",
       "      <th>max</th>\n",
       "      <th>count</th>\n",
       "      <th>mean</th>\n",
       "      <th>...</th>\n",
       "      <th>75%</th>\n",
       "      <th>max</th>\n",
       "      <th>count</th>\n",
       "      <th>mean</th>\n",
       "      <th>std</th>\n",
       "      <th>min</th>\n",
       "      <th>25%</th>\n",
       "      <th>50%</th>\n",
       "      <th>75%</th>\n",
       "      <th>max</th>\n",
       "    </tr>\n",
       "    <tr>\n",
       "      <th>PD</th>\n",
       "      <th></th>\n",
       "      <th></th>\n",
       "      <th></th>\n",
       "      <th></th>\n",
       "      <th></th>\n",
       "      <th></th>\n",
       "      <th></th>\n",
       "      <th></th>\n",
       "      <th></th>\n",
       "      <th></th>\n",
       "      <th></th>\n",
       "      <th></th>\n",
       "      <th></th>\n",
       "      <th></th>\n",
       "      <th></th>\n",
       "      <th></th>\n",
       "      <th></th>\n",
       "      <th></th>\n",
       "      <th></th>\n",
       "      <th></th>\n",
       "      <th></th>\n",
       "    </tr>\n",
       "  </thead>\n",
       "  <tbody>\n",
       "    <tr>\n",
       "      <th>0</th>\n",
       "      <td>24.0</td>\n",
       "      <td>25.5</td>\n",
       "      <td>7.071068</td>\n",
       "      <td>14.0</td>\n",
       "      <td>19.75</td>\n",
       "      <td>25.5</td>\n",
       "      <td>31.25</td>\n",
       "      <td>37.0</td>\n",
       "      <td>24.0</td>\n",
       "      <td>0.375000</td>\n",
       "      <td>...</td>\n",
       "      <td>0.022522</td>\n",
       "      <td>0.025270</td>\n",
       "      <td>24.0</td>\n",
       "      <td>-1157.282513</td>\n",
       "      <td>7748.372456</td>\n",
       "      <td>-36539.000</td>\n",
       "      <td>-10.813825</td>\n",
       "      <td>-2.60090</td>\n",
       "      <td>7.771025</td>\n",
       "      <td>8826.0000</td>\n",
       "    </tr>\n",
       "    <tr>\n",
       "      <th>1</th>\n",
       "      <td>14.0</td>\n",
       "      <td>6.5</td>\n",
       "      <td>4.183300</td>\n",
       "      <td>0.0</td>\n",
       "      <td>3.25</td>\n",
       "      <td>6.5</td>\n",
       "      <td>9.75</td>\n",
       "      <td>13.0</td>\n",
       "      <td>14.0</td>\n",
       "      <td>0.642857</td>\n",
       "      <td>...</td>\n",
       "      <td>0.020938</td>\n",
       "      <td>0.022373</td>\n",
       "      <td>14.0</td>\n",
       "      <td>-6.762095</td>\n",
       "      <td>16.358035</td>\n",
       "      <td>-33.034</td>\n",
       "      <td>-18.251150</td>\n",
       "      <td>-6.10515</td>\n",
       "      <td>3.119242</td>\n",
       "      <td>28.5582</td>\n",
       "    </tr>\n",
       "  </tbody>\n",
       "</table>\n",
       "<p>2 rows × 7456 columns</p>\n",
       "</div>"
      ],
      "text/plain": [
       "   Subjectt                                                   Sex            \\\n",
       "      count  mean       std   min    25%   50%    75%   max count      mean   \n",
       "PD                                                                            \n",
       "0      24.0  25.5  7.071068  14.0  19.75  25.5  31.25  37.0  24.0  0.375000   \n",
       "1      14.0   6.5  4.183300   0.0   3.25   6.5   9.75  13.0  14.0  0.642857   \n",
       "\n",
       "    ... PO left thickness norm.           PO thickness asymmetry               \\\n",
       "    ...                     75%       max                  count         mean   \n",
       "PD  ...                                                                         \n",
       "0   ...                0.022522  0.025270                   24.0 -1157.282513   \n",
       "1   ...                0.020938  0.022373                   14.0    -6.762095   \n",
       "\n",
       "                                                                     \n",
       "            std        min        25%      50%       75%        max  \n",
       "PD                                                                   \n",
       "0   7748.372456 -36539.000 -10.813825 -2.60090  7.771025  8826.0000  \n",
       "1     16.358035    -33.034 -18.251150 -6.10515  3.119242    28.5582  \n",
       "\n",
       "[2 rows x 7456 columns]"
      ]
     },
     "execution_count": 8,
     "metadata": {},
     "output_type": "execute_result"
    }
   ],
   "source": [
    "df.groupby('PD').describe()"
   ]
  },
  {
   "cell_type": "code",
   "execution_count": 9,
   "metadata": {},
   "outputs": [
    {
     "data": {
      "text/plain": [
       "ShapiroResult(statistic=0.9541175365447998, pvalue=0.626254677772522)"
      ]
     },
     "execution_count": 9,
     "metadata": {},
     "output_type": "execute_result"
    }
   ],
   "source": [
    "#is data distribution normal\n",
    "\n",
    "stats.shapiro(pd)"
   ]
  },
  {
   "cell_type": "code",
   "execution_count": 10,
   "metadata": {},
   "outputs": [
    {
     "data": {
      "text/plain": [
       "ShapiroResult(statistic=0.9306058287620544, pvalue=0.10057485103607178)"
      ]
     },
     "execution_count": 10,
     "metadata": {},
     "output_type": "execute_result"
    }
   ],
   "source": [
    "stats.shapiro(sleep)"
   ]
  },
  {
   "cell_type": "code",
   "execution_count": 11,
   "metadata": {},
   "outputs": [
    {
     "data": {
      "text/plain": [
       "LeveneResult(statistic=0.5269244586878069, pvalue=0.47259587614457266)"
      ]
     },
     "execution_count": 11,
     "metadata": {},
     "output_type": "execute_result"
    }
   ],
   "source": [
    "#is data homogenous\n",
    "\n",
    "stats.levene(pd, sleep)"
   ]
  },
  {
   "cell_type": "code",
   "execution_count": 12,
   "metadata": {},
   "outputs": [
    {
     "data": {
      "text/plain": [
       "Ttest_indResult(statistic=1.1549106315010724, pvalue=0.2557356458485105)"
      ]
     },
     "metadata": {},
     "output_type": "display_data"
    }
   ],
   "source": [
    "res = stats.ttest_ind(pd, sleep, \n",
    "                      equal_var=True)\n",
    "\n",
    "display(res)"
   ]
  },
  {
   "cell_type": "code",
   "execution_count": 55,
   "metadata": {},
   "outputs": [
    {
     "data": {
      "text/plain": [
       "Ttest_indResult(statistic=1.161095882572876, pvalue=0.25548230823912765)"
      ]
     },
     "metadata": {},
     "output_type": "display_data"
    }
   ],
   "source": [
    "#data non normal\n",
    "\n",
    "res = stats.ttest_ind(pd, sleep, \n",
    "                      equal_var=False)\n",
    "\n",
    "display(res)"
   ]
  },
  {
   "cell_type": "code",
   "execution_count": 14,
   "metadata": {},
   "outputs": [
    {
     "data": {
      "text/plain": [
       "<seaborn.axisgrid.FacetGrid at 0x1317c4250>"
      ]
     },
     "execution_count": 14,
     "metadata": {},
     "output_type": "execute_result"
    },
    {
     "data": {
      "image/png": "[encoded data removed]",
      "text/plain": [
       "<Figure size 402.375x360 with 1 Axes>"
      ]
     },
     "metadata": {
      "needs_background": "light"
     },
     "output_type": "display_data"
    }
   ],
   "source": [
    "sns.catplot(x='PD', y='Intracranial Cavity (IC) volume cm3', hue='Sex',data=df, kind='box')"
   ]
  },
  {
   "cell_type": "code",
   "execution_count": 15,
   "metadata": {},
   "outputs": [
    {
     "data": {
      "text/plain": [
       "<seaborn.axisgrid.FacetGrid at 0x140e9fd00>"
      ]
     },
     "execution_count": 15,
     "metadata": {},
     "output_type": "execute_result"
    },
    {
     "data": {
      "image/png": "[encoded data removed]",
      "text/plain": [
       "<Figure size 558.875x500 with 1 Axes>"
      ]
     },
     "metadata": {},
     "output_type": "display_data"
    }
   ],
   "source": [
    "sns.catplot(x='Chr', y='Intracranial Cavity (IC) volume cm3', hue='Sex',data=df, kind='box')"
   ]
  },
  {
   "cell_type": "code",
   "execution_count": 60,
   "metadata": {},
   "outputs": [],
   "source": [
    "#stats.spearmanr(pd, sleep, axis=1)"
   ]
  },
  {
   "cell_type": "code",
   "execution_count": 63,
   "metadata": {},
   "outputs": [],
   "source": [
    "#sns.lmplot(x='Grey Matter (GM) volume cm3', y='Intracranial Cavity (IC) volume cm3',hue='Age', row='PD', data=df)"
   ]
  },
  {
   "cell_type": "code",
   "execution_count": 64,
   "metadata": {},
   "outputs": [],
   "source": [
    "#stats.pearsonr(pd, sleep)"
   ]
  },
  {
   "cell_type": "code",
   "execution_count": 68,
   "metadata": {
    "scrolled": true
   },
   "outputs": [],
   "source": [
    "#df.corr()"
   ]
  },
  {
   "cell_type": "code",
   "execution_count": 67,
   "metadata": {},
   "outputs": [
    {
     "data": {
      "text/plain": [
       "Subjectt                   -0.835790\n",
       "Sex                         0.258775\n",
       "Age                         0.842348\n",
       "PD                          1.000000\n",
       "Chr                         0.882670\n",
       "                              ...   \n",
       "PO right thickness mm       0.380477\n",
       "PO right thickness norm.   -0.219277\n",
       "PO left thickness mm       -0.177737\n",
       "PO left thickness norm.    -0.124452\n",
       "PO thickness asymmetry      0.091678\n",
       "Length: 933, dtype: float64"
      ]
     },
     "execution_count": 67,
     "metadata": {},
     "output_type": "execute_result"
    }
   ],
   "source": [
    "df.corrwith(df[\"PD\"], axis=0, drop=False, method='pearson')"
   ]
  },
  {
   "cell_type": "code",
   "execution_count": 16,
   "metadata": {},
   "outputs": [
    {
     "data": {
      "text/plain": [
       "<seaborn.axisgrid.PairGrid at 0x140bb3790>"
      ]
     },
     "execution_count": 16,
     "metadata": {},
     "output_type": "execute_result"
    },
    {
     "data": {
      "image/png": "[encoded data removed]",
      "text/plain": [
       "<Figure size 500x250 with 2 Axes>"
      ]
     },
     "metadata": {},
     "output_type": "display_data"
    }
   ],
   "source": [
    "g = sns.PairGrid(df, y_vars='Intracranial Cavity (IC) volume cm3',x_vars=['Chr','PD'])\n",
    "g.map(sns.pointplot, scale=1.3, errwidt=4, color='xkcd:plum')"
   ]
  },
  {
   "cell_type": "code",
   "execution_count": 16,
   "metadata": {},
   "outputs": [],
   "source": [
    "#corr = df.corr()\n",
    "#corr.style.background_gradient(cmap='coolwarm')"
   ]
  },
  {
   "cell_type": "code",
   "execution_count": null,
   "metadata": {},
   "outputs": [],
   "source": []
  },
  {
   "cell_type": "code",
   "execution_count": null,
   "metadata": {},
   "outputs": [],
   "source": []
  },
  {
   "cell_type": "code",
   "execution_count": null,
   "metadata": {},
   "outputs": [],
   "source": []
  }
 ],
 "metadata": {
  "interpreter": {
   "hash": "98a38a0712216d67e8aa268419cd71029f47d8e340d2000ddf589cec534cec7b"
  },
  "kernelspec": {
   "display_name": "Python 3 (ipykernel)",
   "language": "python",
   "name": "python3"
  },
  "language_info": {
   "codemirror_mode": {
    "name": "ipython",
    "version": 3
   },
   "file_extension": ".py",
   "mimetype": "text/x-python",
   "name": "python",
   "nbconvert_exporter": "python",
   "pygments_lexer": "ipython3",
   "version": "3.9.12"
  }
 },
 "nbformat": 4,
 "nbformat_minor": 4
}
