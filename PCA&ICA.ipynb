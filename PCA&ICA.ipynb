{
 "cells": [
  {
   "cell_type": "markdown",
   "metadata": {},
   "source": [
    "# Data"
   ]
  },
  {
   "cell_type": "code",
   "execution_count": 34,
   "metadata": {},
   "outputs": [],
   "source": [
    "import numpy as np\n",
    "import pandas as pd\n",
    "import matplotlib.pyplot as plt\n",
    "import seaborn as sns\n",
    "import sklearn as sk\n",
    "from scipy import stats"
   ]
  },
  {
   "cell_type": "code",
   "execution_count": 35,
   "metadata": {},
   "outputs": [
    {
     "data": {
      "text/html": [
       "<div>\n",
       "<style scoped>\n",
       "    .dataframe tbody tr th:only-of-type {\n",
       "        vertical-align: middle;\n",
       "    }\n",
       "\n",
       "    .dataframe tbody tr th {\n",
       "        vertical-align: top;\n",
       "    }\n",
       "\n",
       "    .dataframe thead th {\n",
       "        text-align: right;\n",
       "    }\n",
       "</style>\n",
       "<table border=\"1\" class=\"dataframe\">\n",
       "  <thead>\n",
       "    <tr style=\"text-align: right;\">\n",
       "      <th></th>\n",
       "      <th>Subjectt</th>\n",
       "      <th>Sex</th>\n",
       "      <th>Age</th>\n",
       "      <th>PD</th>\n",
       "      <th>Chr</th>\n",
       "      <th>PSQI</th>\n",
       "      <th>Scale factor</th>\n",
       "      <th>SNR</th>\n",
       "      <th>White Matter (WM) volume cm3</th>\n",
       "      <th>White Matter (WM) volume %</th>\n",
       "      <th>...</th>\n",
       "      <th>FO left thickness mm</th>\n",
       "      <th>FO left thickness norm.</th>\n",
       "      <th>FO thickness asymmetry</th>\n",
       "      <th>PO total thickness mm</th>\n",
       "      <th>PO total thickness norm.</th>\n",
       "      <th>PO right thickness mm</th>\n",
       "      <th>PO right thickness norm.</th>\n",
       "      <th>PO left thickness mm</th>\n",
       "      <th>PO left thickness norm.</th>\n",
       "      <th>PO thickness asymmetry</th>\n",
       "    </tr>\n",
       "  </thead>\n",
       "  <tbody>\n",
       "    <tr>\n",
       "      <th>0</th>\n",
       "      <td>PPMI101179</td>\n",
       "      <td>Female</td>\n",
       "      <td>44</td>\n",
       "      <td>1</td>\n",
       "      <td>Nan</td>\n",
       "      <td>0</td>\n",
       "      <td>0.67171</td>\n",
       "      <td>35.8221</td>\n",
       "      <td>481.4425</td>\n",
       "      <td>40.878</td>\n",
       "      <td>...</td>\n",
       "      <td>2.7041</td>\n",
       "      <td>0.025606</td>\n",
       "      <td>-3.4439</td>\n",
       "      <td>1.8278</td>\n",
       "      <td>0.017308</td>\n",
       "      <td>1.4594</td>\n",
       "      <td>0.013820</td>\n",
       "      <td>2.0369</td>\n",
       "      <td>0.019288</td>\n",
       "      <td>-33.034</td>\n",
       "    </tr>\n",
       "    <tr>\n",
       "      <th>1</th>\n",
       "      <td>PPMI3130</td>\n",
       "      <td>Male</td>\n",
       "      <td>44</td>\n",
       "      <td>1</td>\n",
       "      <td>Nan</td>\n",
       "      <td>0</td>\n",
       "      <td>0.85944</td>\n",
       "      <td>18.1954</td>\n",
       "      <td>578.9324</td>\n",
       "      <td>36.0925</td>\n",
       "      <td>...</td>\n",
       "      <td>2.9227</td>\n",
       "      <td>0.024967</td>\n",
       "      <td>6.0559</td>\n",
       "      <td>2.2804</td>\n",
       "      <td>0.019481</td>\n",
       "      <td>2.2139</td>\n",
       "      <td>0.018913</td>\n",
       "      <td>2.3358</td>\n",
       "      <td>0.019954</td>\n",
       "      <td>-5.3568</td>\n",
       "    </tr>\n",
       "    <tr>\n",
       "      <th>2</th>\n",
       "      <td>PPMI3134</td>\n",
       "      <td>Male</td>\n",
       "      <td>39</td>\n",
       "      <td>1</td>\n",
       "      <td>Nan</td>\n",
       "      <td>0</td>\n",
       "      <td>0.81835</td>\n",
       "      <td>16.9461</td>\n",
       "      <td>598.0345</td>\n",
       "      <td>39.2921</td>\n",
       "      <td>...</td>\n",
       "      <td>2.6008</td>\n",
       "      <td>0.022610</td>\n",
       "      <td>-5.6116</td>\n",
       "      <td>2.3824</td>\n",
       "      <td>0.020711</td>\n",
       "      <td>2.4315</td>\n",
       "      <td>0.021138</td>\n",
       "      <td>2.3343</td>\n",
       "      <td>0.020293</td>\n",
       "      <td>4.0799</td>\n",
       "    </tr>\n",
       "    <tr>\n",
       "      <th>3</th>\n",
       "      <td>PPMI3364</td>\n",
       "      <td>Female</td>\n",
       "      <td>39</td>\n",
       "      <td>1</td>\n",
       "      <td>Nan</td>\n",
       "      <td>0</td>\n",
       "      <td>0.75126</td>\n",
       "      <td>28.6519</td>\n",
       "      <td>527.2022</td>\n",
       "      <td>37.5087</td>\n",
       "      <td>...</td>\n",
       "      <td>3.2739</td>\n",
       "      <td>0.029227</td>\n",
       "      <td>-6.6191</td>\n",
       "      <td>2.1569</td>\n",
       "      <td>0.019255</td>\n",
       "      <td>2.1986</td>\n",
       "      <td>0.019627</td>\n",
       "      <td>2.1159</td>\n",
       "      <td>0.018890</td>\n",
       "      <td>3.8304</td>\n",
       "    </tr>\n",
       "    <tr>\n",
       "      <th>4</th>\n",
       "      <td>PPMI3400</td>\n",
       "      <td>Female</td>\n",
       "      <td>39</td>\n",
       "      <td>1</td>\n",
       "      <td>Nan</td>\n",
       "      <td>0</td>\n",
       "      <td>0.79245</td>\n",
       "      <td>169,802</td>\n",
       "      <td>564.1163</td>\n",
       "      <td>39.1742</td>\n",
       "      <td>...</td>\n",
       "      <td>2,735</td>\n",
       "      <td>0.024220</td>\n",
       "      <td>7.2702</td>\n",
       "      <td>2.3758</td>\n",
       "      <td>0.021039</td>\n",
       "      <td>2.3881</td>\n",
       "      <td>0.021147</td>\n",
       "      <td>2.3646</td>\n",
       "      <td>0.020940</td>\n",
       "      <td>0.98577</td>\n",
       "    </tr>\n",
       "  </tbody>\n",
       "</table>\n",
       "<p>5 rows × 933 columns</p>\n",
       "</div>"
      ],
      "text/plain": [
       "     Subjectt     Sex  Age  PD  Chr  PSQI  Scale factor      SNR  \\\n",
       "0  PPMI101179  Female   44   1  Nan     0       0.67171  35.8221   \n",
       "1    PPMI3130    Male   44   1  Nan     0       0.85944  18.1954   \n",
       "2    PPMI3134    Male   39   1  Nan     0       0.81835  16.9461   \n",
       "3    PPMI3364  Female   39   1  Nan     0       0.75126  28.6519   \n",
       "4    PPMI3400  Female   39   1  Nan     0       0.79245  169,802   \n",
       "\n",
       "  White Matter (WM) volume cm3 White Matter (WM) volume %  ...  \\\n",
       "0                     481.4425                     40.878  ...   \n",
       "1                     578.9324                    36.0925  ...   \n",
       "2                     598.0345                    39.2921  ...   \n",
       "3                     527.2022                    37.5087  ...   \n",
       "4                     564.1163                    39.1742  ...   \n",
       "\n",
       "  FO left thickness mm FO left thickness norm.  FO thickness asymmetry  \\\n",
       "0               2.7041                0.025606                 -3.4439   \n",
       "1               2.9227                0.024967                  6.0559   \n",
       "2               2.6008                0.022610                 -5.6116   \n",
       "3               3.2739                0.029227                 -6.6191   \n",
       "4                2,735                0.024220                  7.2702   \n",
       "\n",
       "   PO total thickness mm PO total thickness norm.  PO right thickness mm  \\\n",
       "0                 1.8278                 0.017308                 1.4594   \n",
       "1                 2.2804                 0.019481                 2.2139   \n",
       "2                 2.3824                 0.020711                 2.4315   \n",
       "3                 2.1569                 0.019255                 2.1986   \n",
       "4                 2.3758                 0.021039                 2.3881   \n",
       "\n",
       "  PO right thickness norm. PO left thickness mm PO left thickness norm.  \\\n",
       "0                 0.013820               2.0369                0.019288   \n",
       "1                 0.018913               2.3358                0.019954   \n",
       "2                 0.021138               2.3343                0.020293   \n",
       "3                 0.019627               2.1159                0.018890   \n",
       "4                 0.021147               2.3646                0.020940   \n",
       "\n",
       "  PO thickness asymmetry  \n",
       "0                -33.034  \n",
       "1                -5.3568  \n",
       "2                 4.0799  \n",
       "3                 3.8304  \n",
       "4                0.98577  \n",
       "\n",
       "[5 rows x 933 columns]"
      ]
     },
     "execution_count": 35,
     "metadata": {},
     "output_type": "execute_result"
    }
   ],
   "source": [
    "path = \"./data/\"\n",
    "\n",
    "df = pd.read_csv(path + \"VBM_data.csv\")\n",
    "df=df.drop(columns=['Unnamed: 0'])\n",
    "df.head()"
   ]
  },
  {
   "cell_type": "code",
   "execution_count": 36,
   "metadata": {
    "scrolled": true
   },
   "outputs": [
    {
     "data": {
      "text/html": [
       "<div>\n",
       "<style scoped>\n",
       "    .dataframe tbody tr th:only-of-type {\n",
       "        vertical-align: middle;\n",
       "    }\n",
       "\n",
       "    .dataframe tbody tr th {\n",
       "        vertical-align: top;\n",
       "    }\n",
       "\n",
       "    .dataframe thead th {\n",
       "        text-align: right;\n",
       "    }\n",
       "</style>\n",
       "<table border=\"1\" class=\"dataframe\">\n",
       "  <thead>\n",
       "    <tr style=\"text-align: right;\">\n",
       "      <th></th>\n",
       "      <th>Subjectt</th>\n",
       "      <th>Sex</th>\n",
       "      <th>Age</th>\n",
       "      <th>PD</th>\n",
       "      <th>Chr</th>\n",
       "      <th>PSQI</th>\n",
       "      <th>Scale factor</th>\n",
       "      <th>SNR</th>\n",
       "      <th>White Matter (WM) volume cm3</th>\n",
       "      <th>White Matter (WM) volume %</th>\n",
       "      <th>...</th>\n",
       "      <th>FO left thickness mm</th>\n",
       "      <th>FO left thickness norm.</th>\n",
       "      <th>FO thickness asymmetry</th>\n",
       "      <th>PO total thickness mm</th>\n",
       "      <th>PO total thickness norm.</th>\n",
       "      <th>PO right thickness mm</th>\n",
       "      <th>PO right thickness norm.</th>\n",
       "      <th>PO left thickness mm</th>\n",
       "      <th>PO left thickness norm.</th>\n",
       "      <th>PO thickness asymmetry</th>\n",
       "    </tr>\n",
       "  </thead>\n",
       "  <tbody>\n",
       "    <tr>\n",
       "      <th>0</th>\n",
       "      <td>0</td>\n",
       "      <td>0</td>\n",
       "      <td>44</td>\n",
       "      <td>1</td>\n",
       "      <td>2</td>\n",
       "      <td>0</td>\n",
       "      <td>0.67171</td>\n",
       "      <td>35.8221</td>\n",
       "      <td>481.4425</td>\n",
       "      <td>40.878</td>\n",
       "      <td>...</td>\n",
       "      <td>2.7041</td>\n",
       "      <td>0.025606</td>\n",
       "      <td>-3.4439</td>\n",
       "      <td>1.8278</td>\n",
       "      <td>0.017308</td>\n",
       "      <td>1.4594</td>\n",
       "      <td>0.013820</td>\n",
       "      <td>2.0369</td>\n",
       "      <td>0.019288</td>\n",
       "      <td>-33.034</td>\n",
       "    </tr>\n",
       "    <tr>\n",
       "      <th>1</th>\n",
       "      <td>1</td>\n",
       "      <td>1</td>\n",
       "      <td>44</td>\n",
       "      <td>1</td>\n",
       "      <td>2</td>\n",
       "      <td>0</td>\n",
       "      <td>0.85944</td>\n",
       "      <td>18.1954</td>\n",
       "      <td>578.9324</td>\n",
       "      <td>36.0925</td>\n",
       "      <td>...</td>\n",
       "      <td>2.9227</td>\n",
       "      <td>0.024967</td>\n",
       "      <td>6.0559</td>\n",
       "      <td>2.2804</td>\n",
       "      <td>0.019481</td>\n",
       "      <td>2.2139</td>\n",
       "      <td>0.018913</td>\n",
       "      <td>2.3358</td>\n",
       "      <td>0.019954</td>\n",
       "      <td>-5.3568</td>\n",
       "    </tr>\n",
       "    <tr>\n",
       "      <th>2</th>\n",
       "      <td>2</td>\n",
       "      <td>1</td>\n",
       "      <td>39</td>\n",
       "      <td>1</td>\n",
       "      <td>2</td>\n",
       "      <td>0</td>\n",
       "      <td>0.81835</td>\n",
       "      <td>16.9461</td>\n",
       "      <td>598.0345</td>\n",
       "      <td>39.2921</td>\n",
       "      <td>...</td>\n",
       "      <td>2.6008</td>\n",
       "      <td>0.022610</td>\n",
       "      <td>-5.6116</td>\n",
       "      <td>2.3824</td>\n",
       "      <td>0.020711</td>\n",
       "      <td>2.4315</td>\n",
       "      <td>0.021138</td>\n",
       "      <td>2.3343</td>\n",
       "      <td>0.020293</td>\n",
       "      <td>4.0799</td>\n",
       "    </tr>\n",
       "    <tr>\n",
       "      <th>3</th>\n",
       "      <td>3</td>\n",
       "      <td>0</td>\n",
       "      <td>39</td>\n",
       "      <td>1</td>\n",
       "      <td>2</td>\n",
       "      <td>0</td>\n",
       "      <td>0.75126</td>\n",
       "      <td>28.6519</td>\n",
       "      <td>527.2022</td>\n",
       "      <td>37.5087</td>\n",
       "      <td>...</td>\n",
       "      <td>3.2739</td>\n",
       "      <td>0.029227</td>\n",
       "      <td>-6.6191</td>\n",
       "      <td>2.1569</td>\n",
       "      <td>0.019255</td>\n",
       "      <td>2.1986</td>\n",
       "      <td>0.019627</td>\n",
       "      <td>2.1159</td>\n",
       "      <td>0.018890</td>\n",
       "      <td>3.8304</td>\n",
       "    </tr>\n",
       "    <tr>\n",
       "      <th>4</th>\n",
       "      <td>4</td>\n",
       "      <td>0</td>\n",
       "      <td>39</td>\n",
       "      <td>1</td>\n",
       "      <td>2</td>\n",
       "      <td>0</td>\n",
       "      <td>0.79245</td>\n",
       "      <td>169,802</td>\n",
       "      <td>564.1163</td>\n",
       "      <td>39.1742</td>\n",
       "      <td>...</td>\n",
       "      <td>2,735</td>\n",
       "      <td>0.024220</td>\n",
       "      <td>7.2702</td>\n",
       "      <td>2.3758</td>\n",
       "      <td>0.021039</td>\n",
       "      <td>2.3881</td>\n",
       "      <td>0.021147</td>\n",
       "      <td>2.3646</td>\n",
       "      <td>0.020940</td>\n",
       "      <td>0.98577</td>\n",
       "    </tr>\n",
       "  </tbody>\n",
       "</table>\n",
       "<p>5 rows × 933 columns</p>\n",
       "</div>"
      ],
      "text/plain": [
       "   Subjectt  Sex  Age  PD  Chr  PSQI  Scale factor      SNR  \\\n",
       "0         0    0   44   1    2     0       0.67171  35.8221   \n",
       "1         1    1   44   1    2     0       0.85944  18.1954   \n",
       "2         2    1   39   1    2     0       0.81835  16.9461   \n",
       "3         3    0   39   1    2     0       0.75126  28.6519   \n",
       "4         4    0   39   1    2     0       0.79245  169,802   \n",
       "\n",
       "  White Matter (WM) volume cm3 White Matter (WM) volume %  ...  \\\n",
       "0                     481.4425                     40.878  ...   \n",
       "1                     578.9324                    36.0925  ...   \n",
       "2                     598.0345                    39.2921  ...   \n",
       "3                     527.2022                    37.5087  ...   \n",
       "4                     564.1163                    39.1742  ...   \n",
       "\n",
       "  FO left thickness mm FO left thickness norm.  FO thickness asymmetry  \\\n",
       "0               2.7041                0.025606                 -3.4439   \n",
       "1               2.9227                0.024967                  6.0559   \n",
       "2               2.6008                0.022610                 -5.6116   \n",
       "3               3.2739                0.029227                 -6.6191   \n",
       "4                2,735                0.024220                  7.2702   \n",
       "\n",
       "   PO total thickness mm PO total thickness norm.  PO right thickness mm  \\\n",
       "0                 1.8278                 0.017308                 1.4594   \n",
       "1                 2.2804                 0.019481                 2.2139   \n",
       "2                 2.3824                 0.020711                 2.4315   \n",
       "3                 2.1569                 0.019255                 2.1986   \n",
       "4                 2.3758                 0.021039                 2.3881   \n",
       "\n",
       "  PO right thickness norm. PO left thickness mm PO left thickness norm.  \\\n",
       "0                 0.013820               2.0369                0.019288   \n",
       "1                 0.018913               2.3358                0.019954   \n",
       "2                 0.021138               2.3343                0.020293   \n",
       "3                 0.019627               2.1159                0.018890   \n",
       "4                 0.021147               2.3646                0.020940   \n",
       "\n",
       "  PO thickness asymmetry  \n",
       "0                -33.034  \n",
       "1                -5.3568  \n",
       "2                 4.0799  \n",
       "3                 3.8304  \n",
       "4                0.98577  \n",
       "\n",
       "[5 rows x 933 columns]"
      ]
     },
     "execution_count": 36,
     "metadata": {},
     "output_type": "execute_result"
    }
   ],
   "source": [
    "from sklearn.preprocessing import LabelEncoder\n",
    "categ = ['Subjectt','Sex','Chr']\n",
    "\n",
    "le = LabelEncoder()\n",
    "df[categ] = df[categ].apply(le.fit_transform)\n",
    "df.head()"
   ]
  },
  {
   "cell_type": "markdown",
   "metadata": {},
   "source": [
    "# PCA & ICA"
   ]
  },
  {
   "cell_type": "code",
   "execution_count": 37,
   "metadata": {},
   "outputs": [],
   "source": [
    "#From Sklearn tutorial \n",
    "#Need to modify obv\n",
    "\n",
    "from sklearn.model_selection import train_test_split\n",
    "from sklearn.linear_model import LogisticRegression\n",
    "from sklearn.preprocessing import StandardScaler\n",
    "from sklearn import metrics\n",
    "from sklearn.decomposition import PCA\n",
    "from sklearn.decomposition import NMF\n",
    "from sklearn.decomposition import FastICA\n",
    "from matplotlib.pyplot import figure\n",
    "from sklearn.manifold import TSNE\n",
    "plt.style.use('seaborn')\n"
   ]
  },
  {
   "cell_type": "code",
   "execution_count": 38,
   "metadata": {},
   "outputs": [],
   "source": [
    "for column in df.columns:\n",
    "    if df[column].dtype == \"object\":\n",
    "        df[column] = df[column].apply(lambda x: str(x.replace(\",\", \"\")))\n",
    "        df[column] =df[column].astype(\"float\")\n",
    "\n",
    "X = df.loc[:, df.columns.drop([\"Subjectt\",\"Age\", \"Sex\", \"Chr\", \"PD\", \"PSQI\"])]\n",
    "#y = df.pop(\"PD\")"
   ]
  },
  {
   "cell_type": "code",
   "execution_count": 39,
   "metadata": {},
   "outputs": [
    {
     "name": "stdout",
     "output_type": "stream",
     "text": [
      "(38, 38)\n"
     ]
    },
    {
     "data": {
      "text/html": [
       "<div>\n",
       "<style scoped>\n",
       "    .dataframe tbody tr th:only-of-type {\n",
       "        vertical-align: middle;\n",
       "    }\n",
       "\n",
       "    .dataframe tbody tr th {\n",
       "        vertical-align: top;\n",
       "    }\n",
       "\n",
       "    .dataframe thead th {\n",
       "        text-align: right;\n",
       "    }\n",
       "</style>\n",
       "<table border=\"1\" class=\"dataframe\">\n",
       "  <thead>\n",
       "    <tr style=\"text-align: right;\">\n",
       "      <th></th>\n",
       "      <th>0</th>\n",
       "      <th>1</th>\n",
       "      <th>2</th>\n",
       "      <th>3</th>\n",
       "      <th>4</th>\n",
       "      <th>5</th>\n",
       "      <th>6</th>\n",
       "      <th>7</th>\n",
       "      <th>8</th>\n",
       "      <th>9</th>\n",
       "      <th>...</th>\n",
       "      <th>28</th>\n",
       "      <th>29</th>\n",
       "      <th>30</th>\n",
       "      <th>31</th>\n",
       "      <th>32</th>\n",
       "      <th>33</th>\n",
       "      <th>34</th>\n",
       "      <th>35</th>\n",
       "      <th>36</th>\n",
       "      <th>37</th>\n",
       "    </tr>\n",
       "  </thead>\n",
       "  <tbody>\n",
       "    <tr>\n",
       "      <th>0</th>\n",
       "      <td>-55385.42</td>\n",
       "      <td>-86887.73</td>\n",
       "      <td>-34693.11</td>\n",
       "      <td>-8483.58</td>\n",
       "      <td>2728.33</td>\n",
       "      <td>-8332.28</td>\n",
       "      <td>-110475.91</td>\n",
       "      <td>-34713.40</td>\n",
       "      <td>5995.27</td>\n",
       "      <td>-22147.63</td>\n",
       "      <td>...</td>\n",
       "      <td>312.46</td>\n",
       "      <td>-3.49</td>\n",
       "      <td>91.87</td>\n",
       "      <td>35.94</td>\n",
       "      <td>11.55</td>\n",
       "      <td>32.81</td>\n",
       "      <td>44.49</td>\n",
       "      <td>27.02</td>\n",
       "      <td>13.38</td>\n",
       "      <td>0.0</td>\n",
       "    </tr>\n",
       "    <tr>\n",
       "      <th>1</th>\n",
       "      <td>-55297.41</td>\n",
       "      <td>-86284.83</td>\n",
       "      <td>-30022.41</td>\n",
       "      <td>-8682.63</td>\n",
       "      <td>2478.44</td>\n",
       "      <td>10642.50</td>\n",
       "      <td>-117648.38</td>\n",
       "      <td>-40808.83</td>\n",
       "      <td>27271.53</td>\n",
       "      <td>-22750.26</td>\n",
       "      <td>...</td>\n",
       "      <td>0.12</td>\n",
       "      <td>-0.00</td>\n",
       "      <td>0.04</td>\n",
       "      <td>0.01</td>\n",
       "      <td>-0.01</td>\n",
       "      <td>-0.01</td>\n",
       "      <td>-0.01</td>\n",
       "      <td>-0.02</td>\n",
       "      <td>0.01</td>\n",
       "      <td>0.0</td>\n",
       "    </tr>\n",
       "    <tr>\n",
       "      <th>2</th>\n",
       "      <td>-52763.37</td>\n",
       "      <td>-83520.45</td>\n",
       "      <td>24185.49</td>\n",
       "      <td>85717.17</td>\n",
       "      <td>-32161.15</td>\n",
       "      <td>62269.04</td>\n",
       "      <td>-63358.09</td>\n",
       "      <td>-29808.66</td>\n",
       "      <td>227591.44</td>\n",
       "      <td>148798.72</td>\n",
       "      <td>...</td>\n",
       "      <td>-0.04</td>\n",
       "      <td>-0.02</td>\n",
       "      <td>-0.01</td>\n",
       "      <td>-0.02</td>\n",
       "      <td>-0.01</td>\n",
       "      <td>-0.01</td>\n",
       "      <td>-0.00</td>\n",
       "      <td>-0.00</td>\n",
       "      <td>-0.00</td>\n",
       "      <td>0.0</td>\n",
       "    </tr>\n",
       "    <tr>\n",
       "      <th>3</th>\n",
       "      <td>-158373.72</td>\n",
       "      <td>381286.17</td>\n",
       "      <td>6112.82</td>\n",
       "      <td>-41304.12</td>\n",
       "      <td>8120.38</td>\n",
       "      <td>-237144.55</td>\n",
       "      <td>-21153.04</td>\n",
       "      <td>9630.62</td>\n",
       "      <td>3235.49</td>\n",
       "      <td>-47147.71</td>\n",
       "      <td>...</td>\n",
       "      <td>-0.12</td>\n",
       "      <td>0.08</td>\n",
       "      <td>-0.01</td>\n",
       "      <td>-0.02</td>\n",
       "      <td>-0.02</td>\n",
       "      <td>-0.00</td>\n",
       "      <td>-0.01</td>\n",
       "      <td>-0.02</td>\n",
       "      <td>0.01</td>\n",
       "      <td>0.0</td>\n",
       "    </tr>\n",
       "    <tr>\n",
       "      <th>4</th>\n",
       "      <td>-157144.90</td>\n",
       "      <td>381226.97</td>\n",
       "      <td>10368.93</td>\n",
       "      <td>-43263.82</td>\n",
       "      <td>9758.80</td>\n",
       "      <td>-243944.04</td>\n",
       "      <td>-24252.09</td>\n",
       "      <td>9320.18</td>\n",
       "      <td>4221.62</td>\n",
       "      <td>-54818.69</td>\n",
       "      <td>...</td>\n",
       "      <td>-0.02</td>\n",
       "      <td>-0.03</td>\n",
       "      <td>-0.04</td>\n",
       "      <td>0.00</td>\n",
       "      <td>0.02</td>\n",
       "      <td>0.02</td>\n",
       "      <td>0.02</td>\n",
       "      <td>0.02</td>\n",
       "      <td>0.00</td>\n",
       "      <td>0.0</td>\n",
       "    </tr>\n",
       "  </tbody>\n",
       "</table>\n",
       "<p>5 rows × 38 columns</p>\n",
       "</div>"
      ],
      "text/plain": [
       "          0          1         2         3         4          5          6   \\\n",
       "0  -55385.42  -86887.73 -34693.11  -8483.58   2728.33   -8332.28 -110475.91   \n",
       "1  -55297.41  -86284.83 -30022.41  -8682.63   2478.44   10642.50 -117648.38   \n",
       "2  -52763.37  -83520.45  24185.49  85717.17 -32161.15   62269.04  -63358.09   \n",
       "3 -158373.72  381286.17   6112.82 -41304.12   8120.38 -237144.55  -21153.04   \n",
       "4 -157144.90  381226.97  10368.93 -43263.82   9758.80 -243944.04  -24252.09   \n",
       "\n",
       "         7          8          9   ...      28    29     30     31     32  \\\n",
       "0 -34713.40    5995.27  -22147.63  ...  312.46 -3.49  91.87  35.94  11.55   \n",
       "1 -40808.83   27271.53  -22750.26  ...    0.12 -0.00   0.04   0.01  -0.01   \n",
       "2 -29808.66  227591.44  148798.72  ...   -0.04 -0.02  -0.01  -0.02  -0.01   \n",
       "3   9630.62    3235.49  -47147.71  ...   -0.12  0.08  -0.01  -0.02  -0.02   \n",
       "4   9320.18    4221.62  -54818.69  ...   -0.02 -0.03  -0.04   0.00   0.02   \n",
       "\n",
       "      33     34     35     36   37  \n",
       "0  32.81  44.49  27.02  13.38  0.0  \n",
       "1  -0.01  -0.01  -0.02   0.01  0.0  \n",
       "2  -0.01  -0.00  -0.00  -0.00  0.0  \n",
       "3  -0.00  -0.01  -0.02   0.01  0.0  \n",
       "4   0.02   0.02   0.02   0.00  0.0  \n",
       "\n",
       "[5 rows x 38 columns]"
      ]
     },
     "execution_count": 39,
     "metadata": {},
     "output_type": "execute_result"
    }
   ],
   "source": [
    "#pca = PCA(n_components=0.95)  \n",
    "#df_pca = pca.fit_transform(X)\n",
    "pca = PCA()\n",
    "df_pca = pca.fit_transform(X=X)\n",
    "df_pca = pd.DataFrame(df_pca)\n",
    "print(df_pca.shape)\n",
    "df_pca.round(2).head()"
   ]
  },
  {
   "cell_type": "code",
   "execution_count": 40,
   "metadata": {},
   "outputs": [
    {
     "data": {
      "text/html": [
       "<div>\n",
       "<style scoped>\n",
       "    .dataframe tbody tr th:only-of-type {\n",
       "        vertical-align: middle;\n",
       "    }\n",
       "\n",
       "    .dataframe tbody tr th {\n",
       "        vertical-align: top;\n",
       "    }\n",
       "\n",
       "    .dataframe thead th {\n",
       "        text-align: right;\n",
       "    }\n",
       "</style>\n",
       "<table border=\"1\" class=\"dataframe\">\n",
       "  <thead>\n",
       "    <tr style=\"text-align: right;\">\n",
       "      <th></th>\n",
       "      <th>0</th>\n",
       "      <th>1</th>\n",
       "      <th>2</th>\n",
       "      <th>3</th>\n",
       "      <th>4</th>\n",
       "      <th>5</th>\n",
       "      <th>6</th>\n",
       "      <th>7</th>\n",
       "      <th>8</th>\n",
       "      <th>9</th>\n",
       "      <th>...</th>\n",
       "      <th>917</th>\n",
       "      <th>918</th>\n",
       "      <th>919</th>\n",
       "      <th>920</th>\n",
       "      <th>921</th>\n",
       "      <th>922</th>\n",
       "      <th>923</th>\n",
       "      <th>924</th>\n",
       "      <th>925</th>\n",
       "      <th>926</th>\n",
       "    </tr>\n",
       "  </thead>\n",
       "  <tbody>\n",
       "    <tr>\n",
       "      <th>0</th>\n",
       "      <td>-1.122796e-07</td>\n",
       "      <td>-0.008269</td>\n",
       "      <td>0.416728</td>\n",
       "      <td>-0.001217</td>\n",
       "      <td>-0.044406</td>\n",
       "      <td>-0.000941</td>\n",
       "      <td>1.308956e-08</td>\n",
       "      <td>2.826431e-09</td>\n",
       "      <td>-0.039097</td>\n",
       "      <td>1.918875e-06</td>\n",
       "      <td>...</td>\n",
       "      <td>-0.000196</td>\n",
       "      <td>-4.810017e-07</td>\n",
       "      <td>-0.000139</td>\n",
       "      <td>0.000597</td>\n",
       "      <td>5.882784e-10</td>\n",
       "      <td>-0.000198</td>\n",
       "      <td>4.881153e-10</td>\n",
       "      <td>-0.000225</td>\n",
       "      <td>6.534028e-10</td>\n",
       "      <td>0.000357</td>\n",
       "    </tr>\n",
       "    <tr>\n",
       "      <th>1</th>\n",
       "      <td>-3.319774e-08</td>\n",
       "      <td>0.033949</td>\n",
       "      <td>0.074863</td>\n",
       "      <td>-0.004011</td>\n",
       "      <td>-0.142834</td>\n",
       "      <td>-0.003384</td>\n",
       "      <td>1.480228e-07</td>\n",
       "      <td>1.124735e-08</td>\n",
       "      <td>-0.181338</td>\n",
       "      <td>-1.011198e-06</td>\n",
       "      <td>...</td>\n",
       "      <td>0.000362</td>\n",
       "      <td>-1.315619e-06</td>\n",
       "      <td>-0.000645</td>\n",
       "      <td>0.000396</td>\n",
       "      <td>-8.636382e-10</td>\n",
       "      <td>0.000375</td>\n",
       "      <td>1.353220e-10</td>\n",
       "      <td>0.001029</td>\n",
       "      <td>-1.459053e-09</td>\n",
       "      <td>0.006608</td>\n",
       "    </tr>\n",
       "    <tr>\n",
       "      <th>2</th>\n",
       "      <td>3.124908e-08</td>\n",
       "      <td>0.001457</td>\n",
       "      <td>0.009710</td>\n",
       "      <td>-0.004878</td>\n",
       "      <td>-0.265526</td>\n",
       "      <td>-0.006560</td>\n",
       "      <td>3.580462e-07</td>\n",
       "      <td>2.279265e-08</td>\n",
       "      <td>0.873650</td>\n",
       "      <td>4.885136e-07</td>\n",
       "      <td>...</td>\n",
       "      <td>-0.000141</td>\n",
       "      <td>-9.348841e-07</td>\n",
       "      <td>-0.001730</td>\n",
       "      <td>-0.000225</td>\n",
       "      <td>1.956757e-09</td>\n",
       "      <td>-0.000261</td>\n",
       "      <td>-4.839583e-10</td>\n",
       "      <td>0.000064</td>\n",
       "      <td>3.088817e-09</td>\n",
       "      <td>-0.021530</td>\n",
       "    </tr>\n",
       "    <tr>\n",
       "      <th>3</th>\n",
       "      <td>3.080314e-08</td>\n",
       "      <td>-0.007138</td>\n",
       "      <td>-0.015000</td>\n",
       "      <td>-0.000434</td>\n",
       "      <td>-0.281618</td>\n",
       "      <td>-0.002129</td>\n",
       "      <td>-5.674501e-08</td>\n",
       "      <td>-4.353947e-09</td>\n",
       "      <td>-0.312930</td>\n",
       "      <td>-1.083059e-08</td>\n",
       "      <td>...</td>\n",
       "      <td>-0.000170</td>\n",
       "      <td>-1.987832e-07</td>\n",
       "      <td>-0.001314</td>\n",
       "      <td>-0.000302</td>\n",
       "      <td>8.270718e-10</td>\n",
       "      <td>-0.000075</td>\n",
       "      <td>4.309328e-09</td>\n",
       "      <td>-0.000084</td>\n",
       "      <td>-2.048658e-09</td>\n",
       "      <td>0.005626</td>\n",
       "    </tr>\n",
       "    <tr>\n",
       "      <th>4</th>\n",
       "      <td>-1.604772e-08</td>\n",
       "      <td>0.001670</td>\n",
       "      <td>-0.001492</td>\n",
       "      <td>0.009166</td>\n",
       "      <td>-0.672524</td>\n",
       "      <td>0.018391</td>\n",
       "      <td>4.144054e-08</td>\n",
       "      <td>2.683014e-09</td>\n",
       "      <td>0.039927</td>\n",
       "      <td>-2.731946e-08</td>\n",
       "      <td>...</td>\n",
       "      <td>0.000202</td>\n",
       "      <td>-5.156532e-07</td>\n",
       "      <td>0.000403</td>\n",
       "      <td>-0.000833</td>\n",
       "      <td>6.525654e-10</td>\n",
       "      <td>0.000629</td>\n",
       "      <td>8.897894e-10</td>\n",
       "      <td>0.000060</td>\n",
       "      <td>3.043102e-10</td>\n",
       "      <td>-0.000538</td>\n",
       "    </tr>\n",
       "  </tbody>\n",
       "</table>\n",
       "<p>5 rows × 927 columns</p>\n",
       "</div>"
      ],
      "text/plain": [
       "            0         1         2         3         4         5    \\\n",
       "0 -1.122796e-07 -0.008269  0.416728 -0.001217 -0.044406 -0.000941   \n",
       "1 -3.319774e-08  0.033949  0.074863 -0.004011 -0.142834 -0.003384   \n",
       "2  3.124908e-08  0.001457  0.009710 -0.004878 -0.265526 -0.006560   \n",
       "3  3.080314e-08 -0.007138 -0.015000 -0.000434 -0.281618 -0.002129   \n",
       "4 -1.604772e-08  0.001670 -0.001492  0.009166 -0.672524  0.018391   \n",
       "\n",
       "            6             7         8             9    ...       917  \\\n",
       "0  1.308956e-08  2.826431e-09 -0.039097  1.918875e-06  ... -0.000196   \n",
       "1  1.480228e-07  1.124735e-08 -0.181338 -1.011198e-06  ...  0.000362   \n",
       "2  3.580462e-07  2.279265e-08  0.873650  4.885136e-07  ... -0.000141   \n",
       "3 -5.674501e-08 -4.353947e-09 -0.312930 -1.083059e-08  ... -0.000170   \n",
       "4  4.144054e-08  2.683014e-09  0.039927 -2.731946e-08  ...  0.000202   \n",
       "\n",
       "            918       919       920           921       922           923  \\\n",
       "0 -4.810017e-07 -0.000139  0.000597  5.882784e-10 -0.000198  4.881153e-10   \n",
       "1 -1.315619e-06 -0.000645  0.000396 -8.636382e-10  0.000375  1.353220e-10   \n",
       "2 -9.348841e-07 -0.001730 -0.000225  1.956757e-09 -0.000261 -4.839583e-10   \n",
       "3 -1.987832e-07 -0.001314 -0.000302  8.270718e-10 -0.000075  4.309328e-09   \n",
       "4 -5.156532e-07  0.000403 -0.000833  6.525654e-10  0.000629  8.897894e-10   \n",
       "\n",
       "        924           925       926  \n",
       "0 -0.000225  6.534028e-10  0.000357  \n",
       "1  0.001029 -1.459053e-09  0.006608  \n",
       "2  0.000064  3.088817e-09 -0.021530  \n",
       "3 -0.000084 -2.048658e-09  0.005626  \n",
       "4  0.000060  3.043102e-10 -0.000538  \n",
       "\n",
       "[5 rows x 927 columns]"
      ]
     },
     "execution_count": 40,
     "metadata": {},
     "output_type": "execute_result"
    }
   ],
   "source": [
    "df_pca_loadings = pd.DataFrame(pca.components_)\n",
    "df_pca_loadings.head()"
   ]
  },
  {
   "cell_type": "code",
   "execution_count": 41,
   "metadata": {},
   "outputs": [
    {
     "data": {
      "text/html": [
       "<div>\n",
       "<style scoped>\n",
       "    .dataframe tbody tr th:only-of-type {\n",
       "        vertical-align: middle;\n",
       "    }\n",
       "\n",
       "    .dataframe tbody tr th {\n",
       "        vertical-align: top;\n",
       "    }\n",
       "\n",
       "    .dataframe thead th {\n",
       "        text-align: right;\n",
       "    }\n",
       "</style>\n",
       "<table border=\"1\" class=\"dataframe\">\n",
       "  <thead>\n",
       "    <tr style=\"text-align: right;\">\n",
       "      <th></th>\n",
       "      <th>Scale factor</th>\n",
       "      <th>SNR</th>\n",
       "      <th>White Matter (WM) volume cm3</th>\n",
       "      <th>White Matter (WM) volume %</th>\n",
       "      <th>Normal Appearing White Matter volume cm3</th>\n",
       "      <th>Normal Appearing White Matter volume %</th>\n",
       "      <th>Abnormal Appearing White Matter volume cm3</th>\n",
       "      <th>Abnormal Appearing White Matter volume %</th>\n",
       "      <th>Grey Matter (GM) volume cm3</th>\n",
       "      <th>Grey Matter (GM) volume %</th>\n",
       "      <th>...</th>\n",
       "      <th>FO left thickness mm</th>\n",
       "      <th>FO left thickness norm.</th>\n",
       "      <th>FO thickness asymmetry</th>\n",
       "      <th>PO total thickness mm</th>\n",
       "      <th>PO total thickness norm.</th>\n",
       "      <th>PO right thickness mm</th>\n",
       "      <th>PO right thickness norm.</th>\n",
       "      <th>PO left thickness mm</th>\n",
       "      <th>PO left thickness norm.</th>\n",
       "      <th>PO thickness asymmetry</th>\n",
       "    </tr>\n",
       "  </thead>\n",
       "  <tbody>\n",
       "    <tr>\n",
       "      <th>0</th>\n",
       "      <td>-0.120275</td>\n",
       "      <td>-4465.063271</td>\n",
       "      <td>-36021.624647</td>\n",
       "      <td>-1696.632542</td>\n",
       "      <td>-44517.265984</td>\n",
       "      <td>-896.356303</td>\n",
       "      <td>-0.012391</td>\n",
       "      <td>0.001582</td>\n",
       "      <td>-40799.784384</td>\n",
       "      <td>-0.940876</td>\n",
       "      <td>...</td>\n",
       "      <td>-158.339468</td>\n",
       "      <td>-0.682963</td>\n",
       "      <td>-58.84686</td>\n",
       "      <td>-163.285779</td>\n",
       "      <td>-0.002354</td>\n",
       "      <td>-151.419595</td>\n",
       "      <td>-0.005287</td>\n",
       "      <td>-108.466768</td>\n",
       "      <td>-0.000781</td>\n",
       "      <td>700.372569</td>\n",
       "    </tr>\n",
       "    <tr>\n",
       "      <th>1</th>\n",
       "      <td>0.067455</td>\n",
       "      <td>-4482.689971</td>\n",
       "      <td>-35924.134747</td>\n",
       "      <td>-1701.418042</td>\n",
       "      <td>-44419.676884</td>\n",
       "      <td>-901.132003</td>\n",
       "      <td>-0.111609</td>\n",
       "      <td>-0.008181</td>\n",
       "      <td>-40586.579784</td>\n",
       "      <td>-0.663876</td>\n",
       "      <td>...</td>\n",
       "      <td>-158.120868</td>\n",
       "      <td>-0.683602</td>\n",
       "      <td>-49.34706</td>\n",
       "      <td>-162.833179</td>\n",
       "      <td>-0.000181</td>\n",
       "      <td>-150.665095</td>\n",
       "      <td>-0.000194</td>\n",
       "      <td>-108.167868</td>\n",
       "      <td>-0.000115</td>\n",
       "      <td>728.049769</td>\n",
       "    </tr>\n",
       "    <tr>\n",
       "      <th>2</th>\n",
       "      <td>0.026365</td>\n",
       "      <td>-4483.939271</td>\n",
       "      <td>-35905.032647</td>\n",
       "      <td>-1698.218442</td>\n",
       "      <td>-44400.800184</td>\n",
       "      <td>-897.947403</td>\n",
       "      <td>0.113879</td>\n",
       "      <td>0.006833</td>\n",
       "      <td>-40659.431084</td>\n",
       "      <td>-2.796976</td>\n",
       "      <td>...</td>\n",
       "      <td>-158.442768</td>\n",
       "      <td>-0.685959</td>\n",
       "      <td>-61.01456</td>\n",
       "      <td>-162.731179</td>\n",
       "      <td>0.001049</td>\n",
       "      <td>-150.447495</td>\n",
       "      <td>0.002031</td>\n",
       "      <td>-108.169368</td>\n",
       "      <td>0.000224</td>\n",
       "      <td>737.486469</td>\n",
       "    </tr>\n",
       "    <tr>\n",
       "      <th>3</th>\n",
       "      <td>-0.040725</td>\n",
       "      <td>-4472.233471</td>\n",
       "      <td>-35975.864947</td>\n",
       "      <td>-1700.001842</td>\n",
       "      <td>-44471.469484</td>\n",
       "      <td>-899.720803</td>\n",
       "      <td>-0.049211</td>\n",
       "      <td>-0.003219</td>\n",
       "      <td>-40660.115184</td>\n",
       "      <td>1.059024</td>\n",
       "      <td>...</td>\n",
       "      <td>-157.769668</td>\n",
       "      <td>-0.679342</td>\n",
       "      <td>-62.02206</td>\n",
       "      <td>-162.956679</td>\n",
       "      <td>-0.000407</td>\n",
       "      <td>-150.680395</td>\n",
       "      <td>0.000520</td>\n",
       "      <td>-108.387768</td>\n",
       "      <td>-0.001179</td>\n",
       "      <td>737.236969</td>\n",
       "    </tr>\n",
       "    <tr>\n",
       "      <th>4</th>\n",
       "      <td>0.000465</td>\n",
       "      <td>165301.114629</td>\n",
       "      <td>-35938.950847</td>\n",
       "      <td>-1698.336342</td>\n",
       "      <td>-44434.696784</td>\n",
       "      <td>-898.064903</td>\n",
       "      <td>0.092179</td>\n",
       "      <td>0.006392</td>\n",
       "      <td>-40688.895784</td>\n",
       "      <td>-2.159876</td>\n",
       "      <td>...</td>\n",
       "      <td>2573.956432</td>\n",
       "      <td>-0.684349</td>\n",
       "      <td>-48.13276</td>\n",
       "      <td>-162.737779</td>\n",
       "      <td>0.001377</td>\n",
       "      <td>-150.490895</td>\n",
       "      <td>0.002040</td>\n",
       "      <td>-108.139068</td>\n",
       "      <td>0.000871</td>\n",
       "      <td>734.392339</td>\n",
       "    </tr>\n",
       "  </tbody>\n",
       "</table>\n",
       "<p>5 rows × 927 columns</p>\n",
       "</div>"
      ],
      "text/plain": [
       "   Scale factor            SNR  White Matter (WM) volume cm3  \\\n",
       "0     -0.120275   -4465.063271                 -36021.624647   \n",
       "1      0.067455   -4482.689971                 -35924.134747   \n",
       "2      0.026365   -4483.939271                 -35905.032647   \n",
       "3     -0.040725   -4472.233471                 -35975.864947   \n",
       "4      0.000465  165301.114629                 -35938.950847   \n",
       "\n",
       "   White Matter (WM) volume %  Normal Appearing White Matter volume cm3  \\\n",
       "0                -1696.632542                             -44517.265984   \n",
       "1                -1701.418042                             -44419.676884   \n",
       "2                -1698.218442                             -44400.800184   \n",
       "3                -1700.001842                             -44471.469484   \n",
       "4                -1698.336342                             -44434.696784   \n",
       "\n",
       "   Normal Appearing White Matter volume %  \\\n",
       "0                             -896.356303   \n",
       "1                             -901.132003   \n",
       "2                             -897.947403   \n",
       "3                             -899.720803   \n",
       "4                             -898.064903   \n",
       "\n",
       "   Abnormal Appearing White Matter volume cm3  \\\n",
       "0                                   -0.012391   \n",
       "1                                   -0.111609   \n",
       "2                                    0.113879   \n",
       "3                                   -0.049211   \n",
       "4                                    0.092179   \n",
       "\n",
       "   Abnormal Appearing White Matter volume %  Grey Matter (GM) volume cm3  \\\n",
       "0                                  0.001582                -40799.784384   \n",
       "1                                 -0.008181                -40586.579784   \n",
       "2                                  0.006833                -40659.431084   \n",
       "3                                 -0.003219                -40660.115184   \n",
       "4                                  0.006392                -40688.895784   \n",
       "\n",
       "   Grey Matter (GM) volume %  ...  FO left thickness mm  \\\n",
       "0                  -0.940876  ...           -158.339468   \n",
       "1                  -0.663876  ...           -158.120868   \n",
       "2                  -2.796976  ...           -158.442768   \n",
       "3                   1.059024  ...           -157.769668   \n",
       "4                  -2.159876  ...           2573.956432   \n",
       "\n",
       "   FO left thickness norm.  FO thickness asymmetry  PO total thickness mm  \\\n",
       "0                -0.682963               -58.84686            -163.285779   \n",
       "1                -0.683602               -49.34706            -162.833179   \n",
       "2                -0.685959               -61.01456            -162.731179   \n",
       "3                -0.679342               -62.02206            -162.956679   \n",
       "4                -0.684349               -48.13276            -162.737779   \n",
       "\n",
       "   PO total thickness norm.  PO right thickness mm  PO right thickness norm.  \\\n",
       "0                 -0.002354            -151.419595                 -0.005287   \n",
       "1                 -0.000181            -150.665095                 -0.000194   \n",
       "2                  0.001049            -150.447495                  0.002031   \n",
       "3                 -0.000407            -150.680395                  0.000520   \n",
       "4                  0.001377            -150.490895                  0.002040   \n",
       "\n",
       "   PO left thickness mm  PO left thickness norm.  PO thickness asymmetry  \n",
       "0           -108.466768                -0.000781              700.372569  \n",
       "1           -108.167868                -0.000115              728.049769  \n",
       "2           -108.169368                 0.000224              737.486469  \n",
       "3           -108.387768                -0.001179              737.236969  \n",
       "4           -108.139068                 0.000871              734.392339  \n",
       "\n",
       "[5 rows x 927 columns]"
      ]
     },
     "execution_count": 41,
     "metadata": {},
     "output_type": "execute_result"
    }
   ],
   "source": [
    "X_mean = X - X.mean()\n",
    "X_mean.head()"
   ]
  },
  {
   "cell_type": "code",
   "execution_count": 42,
   "metadata": {},
   "outputs": [
    {
     "data": {
      "text/plain": [
       "-55297.40550892038"
      ]
     },
     "execution_count": 42,
     "metadata": {},
     "output_type": "execute_result"
    }
   ],
   "source": [
    "# Compute PC1 for row 1. \n",
    "np.dot(df_pca_loadings.loc[0, :], X_mean.loc[1, :])"
   ]
  },
  {
   "cell_type": "code",
   "execution_count": 43,
   "metadata": {},
   "outputs": [
    {
     "name": "stdout",
     "output_type": "stream",
     "text": [
      "[0.29 0.17 0.11 0.09 0.09 0.07 0.06 0.04 0.02 0.02]\n"
     ]
    }
   ],
   "source": [
    "print(pca.explained_variance_ratio_.round(2)[:10])"
   ]
  },
  {
   "cell_type": "code",
   "execution_count": 44,
   "metadata": {},
   "outputs": [
    {
     "data": {
      "image/png": "[encoded data removed]",
      "text/plain": [
       "<Figure size 1600x700 with 1 Axes>"
      ]
     },
     "metadata": {},
     "output_type": "display_data"
    }
   ],
   "source": [
    "variance_exp_cumsum = pca.explained_variance_ratio_.cumsum().round(2)\n",
    "fig, axes = plt.subplots(1,1,figsize=(16,7), dpi=100)\n",
    "plt.plot(variance_exp_cumsum, color='firebrick')\n",
    "plt.title('Screeplot of Variance Explained %', fontsize=22)\n",
    "plt.xlabel('# of PCs', fontsize=16)\n",
    "plt.show()"
   ]
  },
  {
   "cell_type": "code",
   "execution_count": 45,
   "metadata": {},
   "outputs": [],
   "source": [
    "from scipy.spatial import ConvexHull\n",
    "\n",
    "def encircle(x,y, ax=None, **kw):\n",
    "    if not ax: ax=plt.gca()\n",
    "    p = np.c_[x,y]\n",
    "    hull = ConvexHull(p)\n",
    "    poly = plt.Polygon(p[hull.vertices,:], **kw)\n",
    "    ax.add_patch(poly)"
   ]
  },
  {
   "cell_type": "code",
   "execution_count": 46,
   "metadata": {},
   "outputs": [
    {
     "data": {
      "image/png": "[encoded data removed]",
      "text/plain": [
       "<Figure size 1152x864 with 1 Axes>"
      ]
     },
     "metadata": {},
     "output_type": "display_data"
    }
   ],
   "source": [
    "# Scatterplot against PC1 and PC2\n",
    "fig, ax = plt.subplots(1,1, figsize=(16,12))\n",
    "\n",
    "# Row masks for each category\n",
    "rows_0 = y==0;\n",
    "rows_1 = y==1;  \n",
    "\n",
    "# Plot\n",
    "ax.scatter(df_pca.loc[rows_0.tolist(), 1], df_pca.loc[rows_0.tolist(), 2], c='blue', edgecolor='k', s=120, label='Zero')\n",
    "ax.scatter(df_pca.loc[rows_1.tolist(), 1], df_pca.loc[rows_1.tolist(), 2], c='red', edgecolor='k', s=120, label='One')\n",
    "\n",
    "# Encircle the boundaries\n",
    "encircle(df_pca.loc[rows_0.tolist(), 1], df_pca.loc[rows_0.tolist(), 2], ec=\"blue\", fc=\"none\", linewidth=2.5)\n",
    "encircle(df_pca.loc[rows_1.tolist(), 1], df_pca.loc[rows_1.tolist(), 2], ec=\"firebrick\", fc=\"none\", linewidth=2.5)\n",
    "\n",
    "# Shading\n",
    "encircle(df_pca.loc[rows_1.tolist(), 1], df_pca.loc[rows_1.tolist(), 2], ec=\"k\", fc=\"firebrick\", alpha=0.05)\n",
    "encircle(df_pca.loc[rows_0.tolist(), 1], df_pca.loc[rows_0.tolist(), 2], ec=\"k\", fc=\"blue\", alpha=0.05)\n",
    "\n",
    "# Labels\n",
    "ax.set_title(\"Data for 1 & 2: Scatterplot of First Two PCA directions\", fontsize=22)\n",
    "ax.set_xlabel(\"1st Principal Component\", fontsize=22)\n",
    "ax.set_ylabel(\"2nd Principal Component\", fontsize=22)\n",
    "ax.legend(loc='best', title='Transaction Type', fontsize=16)\n",
    "plt.show();\n"
   ]
  },
  {
   "cell_type": "code",
   "execution_count": 49,
   "metadata": {},
   "outputs": [
    {
     "data": {
      "application/vnd.plotly.v1+json": {
       "config": {
        "plotlyServerURL": "https://plot.ly"
       },
       "data": [
        {
         "hovertemplate": "PC 1=%{x}<br>PC 2=%{y}<br>PC 3=%{z}<br>color=%{marker.color}<extra></extra>",
         "legendgroup": "",
         "marker": {
          "color": [
           1,
           1,
           1,
           1,
           1,
           1,
           1,
           1,
           1,
           1,
           1,
           1,
           1,
           1,
           0,
           0,
           0,
           0,
           0,
           0,
           0,
           0,
           0,
           0,
           0,
           0,
           0,
           0,
           0,
           0,
           0,
           0,
           0,
           0,
           0,
           0,
           0,
           0
          ],
          "coloraxis": "coloraxis",
          "symbol": "circle"
         },
         "mode": "markers",
         "name": "",
         "scene": "scene",
         "showlegend": false,
         "type": "scatter3d",
         "x": [
          -55385.41527968476,
          -55297.405508920165,
          -52763.37260284533,
          -158373.7217665275,
          -157144.9016704869,
          -118754.2286341447,
          -61759.59640268931,
          -66006.86493673711,
          -63479.833421128584,
          -221759.45331634764,
          -169853.62129271298,
          -55219.361002047925,
          -55183.66894818725,
          -55359.2256899807,
          -54987.221628964726,
          -57653.92505214242,
          926057.2990634613,
          -190613.94817461312,
          -86838.84623502426,
          999476.3802031486,
          -50411.42689733138,
          -58492.78701433499,
          -82356.381388777,
          -55293.17132055062,
          -77089.8743797091,
          -156465.32916890352,
          -61558.952760442255,
          -85285.25386015108,
          1025392.1265729361,
          -77741.4338011383,
          -85214.77191123688,
          -88749.49283080241,
          -59642.86794745747,
          -55246.12128579175,
          -55151.56876466272,
          -55184.20243840444,
          -55192.38250983506,
          -55415.175996831866
         ],
         "y": [
          -86887.73071171912,
          -86284.82711301644,
          -83520.45296797954,
          381286.1679489478,
          381226.96716650797,
          167318.79857161784,
          -138697.53241405147,
          -104139.69784066977,
          -139557.36179918074,
          696490.7431098478,
          425965.74663707206,
          -86786.48028312447,
          -86776.09609633361,
          -86882.37249121671,
          -86819.07799716445,
          -137199.2678405587,
          90551.9733078248,
          518795.3475751625,
          -125323.90586755173,
          102551.08181181787,
          -91606.80596634794,
          -83015.39733265233,
          -175271.01823667393,
          -86855.3789492509,
          -166438.01592065766,
          419101.3544293578,
          -106929.68100946365,
          -227994.94206007858,
          119589.25879217811,
          -219363.7601232448,
          -177184.4303807093,
          -188750.1277387208,
          -96468.50154773939,
          -86826.69840633681,
          -86771.6066019673,
          -86785.95106820966,
          -86812.22120509497,
          -86928.09938062257
         ],
         "z": [
          -34693.111699820634,
          -30022.40503127314,
          24185.492036791813,
          6112.821625237381,
          10368.932038661567,
          -14395.250187386177,
          -134989.51357325312,
          -72492.65709732364,
          113926.75136111151,
          96069.28762032119,
          6538.291895757711,
          -34621.36519393746,
          -34580.80037480261,
          -34664.130748713476,
          -34035.244225574635,
          108497.33125448016,
          -12363.836974281896,
          24534.606056535456,
          -167377.06440064133,
          -5285.300907122285,
          -45369.65872296026,
          -37617.661978341705,
          -197190.9321802812,
          -34597.94794734722,
          -173089.4304073553,
          10179.345558223251,
          -60318.25412082996,
          646395.0631848804,
          42525.106602704924,
          715386.5091148508,
          -199752.95026038922,
          -231002.94143029465,
          -43373.314846227324,
          -34588.34310084066,
          -34544.9569697909,
          -34562.64103631991,
          -34529.41205229317,
          -34660.41288215366
         ]
        }
       ],
       "layout": {
        "coloraxis": {
         "colorbar": {
          "title": {
           "text": "color"
          }
         },
         "colorscale": [
          [
           0,
           "#0d0887"
          ],
          [
           0.1111111111111111,
           "#46039f"
          ],
          [
           0.2222222222222222,
           "#7201a8"
          ],
          [
           0.3333333333333333,
           "#9c179e"
          ],
          [
           0.4444444444444444,
           "#bd3786"
          ],
          [
           0.5555555555555556,
           "#d8576b"
          ],
          [
           0.6666666666666666,
           "#ed7953"
          ],
          [
           0.7777777777777778,
           "#fb9f3a"
          ],
          [
           0.8888888888888888,
           "#fdca26"
          ],
          [
           1,
           "#f0f921"
          ]
         ]
        },
        "legend": {
         "tracegroupgap": 0
        },
        "scene": {
         "domain": {
          "x": [
           0,
           1
          ],
          "y": [
           0,
           1
          ]
         },
         "xaxis": {
          "title": {
           "text": "PC 1"
          }
         },
         "yaxis": {
          "title": {
           "text": "PC 2"
          }
         },
         "zaxis": {
          "title": {
           "text": "PC 3"
          }
         }
        },
        "template": {
         "data": {
          "bar": [
           {
            "error_x": {
             "color": "#2a3f5f"
            },
            "error_y": {
             "color": "#2a3f5f"
            },
            "marker": {
             "line": {
              "color": "#E5ECF6",
              "width": 0.5
             },
             "pattern": {
              "fillmode": "overlay",
              "size": 10,
              "solidity": 0.2
             }
            },
            "type": "bar"
           }
          ],
          "barpolar": [
           {
            "marker": {
             "line": {
              "color": "#E5ECF6",
              "width": 0.5
             },
             "pattern": {
              "fillmode": "overlay",
              "size": 10,
              "solidity": 0.2
             }
            },
            "type": "barpolar"
           }
          ],
          "carpet": [
           {
            "aaxis": {
             "endlinecolor": "#2a3f5f",
             "gridcolor": "white",
             "linecolor": "white",
             "minorgridcolor": "white",
             "startlinecolor": "#2a3f5f"
            },
            "baxis": {
             "endlinecolor": "#2a3f5f",
             "gridcolor": "white",
             "linecolor": "white",
             "minorgridcolor": "white",
             "startlinecolor": "#2a3f5f"
            },
            "type": "carpet"
           }
          ],
          "choropleth": [
           {
            "colorbar": {
             "outlinewidth": 0,
             "ticks": ""
            },
            "type": "choropleth"
           }
          ],
          "contour": [
           {
            "colorbar": {
             "outlinewidth": 0,
             "ticks": ""
            },
            "colorscale": [
             [
              0,
              "#0d0887"
             ],
             [
              0.1111111111111111,
              "#46039f"
             ],
             [
              0.2222222222222222,
              "#7201a8"
             ],
             [
              0.3333333333333333,
              "#9c179e"
             ],
             [
              0.4444444444444444,
              "#bd3786"
             ],
             [
              0.5555555555555556,
              "#d8576b"
             ],
             [
              0.6666666666666666,
              "#ed7953"
             ],
             [
              0.7777777777777778,
              "#fb9f3a"
             ],
             [
              0.8888888888888888,
              "#fdca26"
             ],
             [
              1,
              "#f0f921"
             ]
            ],
            "type": "contour"
           }
          ],
          "contourcarpet": [
           {
            "colorbar": {
             "outlinewidth": 0,
             "ticks": ""
            },
            "type": "contourcarpet"
           }
          ],
          "heatmap": [
           {
            "colorbar": {
             "outlinewidth": 0,
             "ticks": ""
            },
            "colorscale": [
             [
              0,
              "#0d0887"
             ],
             [
              0.1111111111111111,
              "#46039f"
             ],
             [
              0.2222222222222222,
              "#7201a8"
             ],
             [
              0.3333333333333333,
              "#9c179e"
             ],
             [
              0.4444444444444444,
              "#bd3786"
             ],
             [
              0.5555555555555556,
              "#d8576b"
             ],
             [
              0.6666666666666666,
              "#ed7953"
             ],
             [
              0.7777777777777778,
              "#fb9f3a"
             ],
             [
              0.8888888888888888,
              "#fdca26"
             ],
             [
              1,
              "#f0f921"
             ]
            ],
            "type": "heatmap"
           }
          ],
          "heatmapgl": [
           {
            "colorbar": {
             "outlinewidth": 0,
             "ticks": ""
            },
            "colorscale": [
             [
              0,
              "#0d0887"
             ],
             [
              0.1111111111111111,
              "#46039f"
             ],
             [
              0.2222222222222222,
              "#7201a8"
             ],
             [
              0.3333333333333333,
              "#9c179e"
             ],
             [
              0.4444444444444444,
              "#bd3786"
             ],
             [
              0.5555555555555556,
              "#d8576b"
             ],
             [
              0.6666666666666666,
              "#ed7953"
             ],
             [
              0.7777777777777778,
              "#fb9f3a"
             ],
             [
              0.8888888888888888,
              "#fdca26"
             ],
             [
              1,
              "#f0f921"
             ]
            ],
            "type": "heatmapgl"
           }
          ],
          "histogram": [
           {
            "marker": {
             "pattern": {
              "fillmode": "overlay",
              "size": 10,
              "solidity": 0.2
             }
            },
            "type": "histogram"
           }
          ],
          "histogram2d": [
           {
            "colorbar": {
             "outlinewidth": 0,
             "ticks": ""
            },
            "colorscale": [
             [
              0,
              "#0d0887"
             ],
             [
              0.1111111111111111,
              "#46039f"
             ],
             [
              0.2222222222222222,
              "#7201a8"
             ],
             [
              0.3333333333333333,
              "#9c179e"
             ],
             [
              0.4444444444444444,
              "#bd3786"
             ],
             [
              0.5555555555555556,
              "#d8576b"
             ],
             [
              0.6666666666666666,
              "#ed7953"
             ],
             [
              0.7777777777777778,
              "#fb9f3a"
             ],
             [
              0.8888888888888888,
              "#fdca26"
             ],
             [
              1,
              "#f0f921"
             ]
            ],
            "type": "histogram2d"
           }
          ],
          "histogram2dcontour": [
           {
            "colorbar": {
             "outlinewidth": 0,
             "ticks": ""
            },
            "colorscale": [
             [
              0,
              "#0d0887"
             ],
             [
              0.1111111111111111,
              "#46039f"
             ],
             [
              0.2222222222222222,
              "#7201a8"
             ],
             [
              0.3333333333333333,
              "#9c179e"
             ],
             [
              0.4444444444444444,
              "#bd3786"
             ],
             [
              0.5555555555555556,
              "#d8576b"
             ],
             [
              0.6666666666666666,
              "#ed7953"
             ],
             [
              0.7777777777777778,
              "#fb9f3a"
             ],
             [
              0.8888888888888888,
              "#fdca26"
             ],
             [
              1,
              "#f0f921"
             ]
            ],
            "type": "histogram2dcontour"
           }
          ],
          "mesh3d": [
           {
            "colorbar": {
             "outlinewidth": 0,
             "ticks": ""
            },
            "type": "mesh3d"
           }
          ],
          "parcoords": [
           {
            "line": {
             "colorbar": {
              "outlinewidth": 0,
              "ticks": ""
             }
            },
            "type": "parcoords"
           }
          ],
          "pie": [
           {
            "automargin": true,
            "type": "pie"
           }
          ],
          "scatter": [
           {
            "fillpattern": {
             "fillmode": "overlay",
             "size": 10,
             "solidity": 0.2
            },
            "type": "scatter"
           }
          ],
          "scatter3d": [
           {
            "line": {
             "colorbar": {
              "outlinewidth": 0,
              "ticks": ""
             }
            },
            "marker": {
             "colorbar": {
              "outlinewidth": 0,
              "ticks": ""
             }
            },
            "type": "scatter3d"
           }
          ],
          "scattercarpet": [
           {
            "marker": {
             "colorbar": {
              "outlinewidth": 0,
              "ticks": ""
             }
            },
            "type": "scattercarpet"
           }
          ],
          "scattergeo": [
           {
            "marker": {
             "colorbar": {
              "outlinewidth": 0,
              "ticks": ""
             }
            },
            "type": "scattergeo"
           }
          ],
          "scattergl": [
           {
            "marker": {
             "colorbar": {
              "outlinewidth": 0,
              "ticks": ""
             }
            },
            "type": "scattergl"
           }
          ],
          "scattermapbox": [
           {
            "marker": {
             "colorbar": {
              "outlinewidth": 0,
              "ticks": ""
             }
            },
            "type": "scattermapbox"
           }
          ],
          "scatterpolar": [
           {
            "marker": {
             "colorbar": {
              "outlinewidth": 0,
              "ticks": ""
             }
            },
            "type": "scatterpolar"
           }
          ],
          "scatterpolargl": [
           {
            "marker": {
             "colorbar": {
              "outlinewidth": 0,
              "ticks": ""
             }
            },
            "type": "scatterpolargl"
           }
          ],
          "scatterternary": [
           {
            "marker": {
             "colorbar": {
              "outlinewidth": 0,
              "ticks": ""
             }
            },
            "type": "scatterternary"
           }
          ],
          "surface": [
           {
            "colorbar": {
             "outlinewidth": 0,
             "ticks": ""
            },
            "colorscale": [
             [
              0,
              "#0d0887"
             ],
             [
              0.1111111111111111,
              "#46039f"
             ],
             [
              0.2222222222222222,
              "#7201a8"
             ],
             [
              0.3333333333333333,
              "#9c179e"
             ],
             [
              0.4444444444444444,
              "#bd3786"
             ],
             [
              0.5555555555555556,
              "#d8576b"
             ],
             [
              0.6666666666666666,
              "#ed7953"
             ],
             [
              0.7777777777777778,
              "#fb9f3a"
             ],
             [
              0.8888888888888888,
              "#fdca26"
             ],
             [
              1,
              "#f0f921"
             ]
            ],
            "type": "surface"
           }
          ],
          "table": [
           {
            "cells": {
             "fill": {
              "color": "#EBF0F8"
             },
             "line": {
              "color": "white"
             }
            },
            "header": {
             "fill": {
              "color": "#C8D4E3"
             },
             "line": {
              "color": "white"
             }
            },
            "type": "table"
           }
          ]
         },
         "layout": {
          "annotationdefaults": {
           "arrowcolor": "#2a3f5f",
           "arrowhead": 0,
           "arrowwidth": 1
          },
          "autotypenumbers": "strict",
          "coloraxis": {
           "colorbar": {
            "outlinewidth": 0,
            "ticks": ""
           }
          },
          "colorscale": {
           "diverging": [
            [
             0,
             "#8e0152"
            ],
            [
             0.1,
             "#c51b7d"
            ],
            [
             0.2,
             "#de77ae"
            ],
            [
             0.3,
             "#f1b6da"
            ],
            [
             0.4,
             "#fde0ef"
            ],
            [
             0.5,
             "#f7f7f7"
            ],
            [
             0.6,
             "#e6f5d0"
            ],
            [
             0.7,
             "#b8e186"
            ],
            [
             0.8,
             "#7fbc41"
            ],
            [
             0.9,
             "#4d9221"
            ],
            [
             1,
             "#276419"
            ]
           ],
           "sequential": [
            [
             0,
             "#0d0887"
            ],
            [
             0.1111111111111111,
             "#46039f"
            ],
            [
             0.2222222222222222,
             "#7201a8"
            ],
            [
             0.3333333333333333,
             "#9c179e"
            ],
            [
             0.4444444444444444,
             "#bd3786"
            ],
            [
             0.5555555555555556,
             "#d8576b"
            ],
            [
             0.6666666666666666,
             "#ed7953"
            ],
            [
             0.7777777777777778,
             "#fb9f3a"
            ],
            [
             0.8888888888888888,
             "#fdca26"
            ],
            [
             1,
             "#f0f921"
            ]
           ],
           "sequentialminus": [
            [
             0,
             "#0d0887"
            ],
            [
             0.1111111111111111,
             "#46039f"
            ],
            [
             0.2222222222222222,
             "#7201a8"
            ],
            [
             0.3333333333333333,
             "#9c179e"
            ],
            [
             0.4444444444444444,
             "#bd3786"
            ],
            [
             0.5555555555555556,
             "#d8576b"
            ],
            [
             0.6666666666666666,
             "#ed7953"
            ],
            [
             0.7777777777777778,
             "#fb9f3a"
            ],
            [
             0.8888888888888888,
             "#fdca26"
            ],
            [
             1,
             "#f0f921"
            ]
           ]
          },
          "colorway": [
           "#636efa",
           "#EF553B",
           "#00cc96",
           "#ab63fa",
           "#FFA15A",
           "#19d3f3",
           "#FF6692",
           "#B6E880",
           "#FF97FF",
           "#FECB52"
          ],
          "font": {
           "color": "#2a3f5f"
          },
          "geo": {
           "bgcolor": "white",
           "lakecolor": "white",
           "landcolor": "#E5ECF6",
           "showlakes": true,
           "showland": true,
           "subunitcolor": "white"
          },
          "hoverlabel": {
           "align": "left"
          },
          "hovermode": "closest",
          "mapbox": {
           "style": "light"
          },
          "paper_bgcolor": "white",
          "plot_bgcolor": "#E5ECF6",
          "polar": {
           "angularaxis": {
            "gridcolor": "white",
            "linecolor": "white",
            "ticks": ""
           },
           "bgcolor": "#E5ECF6",
           "radialaxis": {
            "gridcolor": "white",
            "linecolor": "white",
            "ticks": ""
           }
          },
          "scene": {
           "xaxis": {
            "backgroundcolor": "#E5ECF6",
            "gridcolor": "white",
            "gridwidth": 2,
            "linecolor": "white",
            "showbackground": true,
            "ticks": "",
            "zerolinecolor": "white"
           },
           "yaxis": {
            "backgroundcolor": "#E5ECF6",
            "gridcolor": "white",
            "gridwidth": 2,
            "linecolor": "white",
            "showbackground": true,
            "ticks": "",
            "zerolinecolor": "white"
           },
           "zaxis": {
            "backgroundcolor": "#E5ECF6",
            "gridcolor": "white",
            "gridwidth": 2,
            "linecolor": "white",
            "showbackground": true,
            "ticks": "",
            "zerolinecolor": "white"
           }
          },
          "shapedefaults": {
           "line": {
            "color": "#2a3f5f"
           }
          },
          "ternary": {
           "aaxis": {
            "gridcolor": "white",
            "linecolor": "white",
            "ticks": ""
           },
           "baxis": {
            "gridcolor": "white",
            "linecolor": "white",
            "ticks": ""
           },
           "bgcolor": "#E5ECF6",
           "caxis": {
            "gridcolor": "white",
            "linecolor": "white",
            "ticks": ""
           }
          },
          "title": {
           "x": 0.05
          },
          "xaxis": {
           "automargin": true,
           "gridcolor": "white",
           "linecolor": "white",
           "ticks": "",
           "title": {
            "standoff": 15
           },
           "zerolinecolor": "white",
           "zerolinewidth": 2
          },
          "yaxis": {
           "automargin": true,
           "gridcolor": "white",
           "linecolor": "white",
           "ticks": "",
           "title": {
            "standoff": 15
           },
           "zerolinecolor": "white",
           "zerolinewidth": 2
          }
         }
        },
        "title": {
         "text": "Total Explained Variance: 100.00%"
        }
       }
      },
      "text/html": [
       "<div>                            <div id=\"3ea8d399-a4ee-4f13-a64a-5e3271439609\" class=\"plotly-graph-div\" style=\"height:525px; width:100%;\"></div>            <script type=\"text/javascript\">                require([\"plotly\"], function(Plotly) {                    window.PLOTLYENV=window.PLOTLYENV || {};                                    if (document.getElementById(\"3ea8d399-a4ee-4f13-a64a-5e3271439609\")) {                    Plotly.newPlot(                        \"3ea8d399-a4ee-4f13-a64a-5e3271439609\",                        [{\"hovertemplate\":\"PC 1=%{x}<br>PC 2=%{y}<br>PC 3=%{z}<br>color=%{marker.color}<extra></extra>\",\"legendgroup\":\"\",\"marker\":{\"color\":[1,1,1,1,1,1,1,1,1,1,1,1,1,1,0,0,0,0,0,0,0,0,0,0,0,0,0,0,0,0,0,0,0,0,0,0,0,0],\"coloraxis\":\"coloraxis\",\"symbol\":\"circle\"},\"mode\":\"markers\",\"name\":\"\",\"scene\":\"scene\",\"showlegend\":false,\"x\":[-55385.41527968476,-55297.405508920165,-52763.37260284533,-158373.7217665275,-157144.9016704869,-118754.2286341447,-61759.59640268931,-66006.86493673711,-63479.833421128584,-221759.45331634764,-169853.62129271298,-55219.361002047925,-55183.66894818725,-55359.2256899807,-54987.221628964726,-57653.92505214242,926057.2990634613,-190613.94817461312,-86838.84623502426,999476.3802031486,-50411.42689733138,-58492.78701433499,-82356.381388777,-55293.17132055062,-77089.8743797091,-156465.32916890352,-61558.952760442255,-85285.25386015108,1025392.1265729361,-77741.4338011383,-85214.77191123688,-88749.49283080241,-59642.86794745747,-55246.12128579175,-55151.56876466272,-55184.20243840444,-55192.38250983506,-55415.175996831866],\"y\":[-86887.73071171912,-86284.82711301644,-83520.45296797954,381286.1679489478,381226.96716650797,167318.79857161784,-138697.53241405147,-104139.69784066977,-139557.36179918074,696490.7431098478,425965.74663707206,-86786.48028312447,-86776.09609633361,-86882.37249121671,-86819.07799716445,-137199.2678405587,90551.9733078248,518795.3475751625,-125323.90586755173,102551.08181181787,-91606.80596634794,-83015.39733265233,-175271.01823667393,-86855.3789492509,-166438.01592065766,419101.3544293578,-106929.68100946365,-227994.94206007858,119589.25879217811,-219363.7601232448,-177184.4303807093,-188750.1277387208,-96468.50154773939,-86826.69840633681,-86771.6066019673,-86785.95106820966,-86812.22120509497,-86928.09938062257],\"z\":[-34693.111699820634,-30022.40503127314,24185.492036791813,6112.821625237381,10368.932038661567,-14395.250187386177,-134989.51357325312,-72492.65709732364,113926.75136111151,96069.28762032119,6538.291895757711,-34621.36519393746,-34580.80037480261,-34664.130748713476,-34035.244225574635,108497.33125448016,-12363.836974281896,24534.606056535456,-167377.06440064133,-5285.300907122285,-45369.65872296026,-37617.661978341705,-197190.9321802812,-34597.94794734722,-173089.4304073553,10179.345558223251,-60318.25412082996,646395.0631848804,42525.106602704924,715386.5091148508,-199752.95026038922,-231002.94143029465,-43373.314846227324,-34588.34310084066,-34544.9569697909,-34562.64103631991,-34529.41205229317,-34660.41288215366],\"type\":\"scatter3d\"}],                        {\"template\":{\"data\":{\"histogram2dcontour\":[{\"type\":\"histogram2dcontour\",\"colorbar\":{\"outlinewidth\":0,\"ticks\":\"\"},\"colorscale\":[[0.0,\"#0d0887\"],[0.1111111111111111,\"#46039f\"],[0.2222222222222222,\"#7201a8\"],[0.3333333333333333,\"#9c179e\"],[0.4444444444444444,\"#bd3786\"],[0.5555555555555556,\"#d8576b\"],[0.6666666666666666,\"#ed7953\"],[0.7777777777777778,\"#fb9f3a\"],[0.8888888888888888,\"#fdca26\"],[1.0,\"#f0f921\"]]}],\"choropleth\":[{\"type\":\"choropleth\",\"colorbar\":{\"outlinewidth\":0,\"ticks\":\"\"}}],\"histogram2d\":[{\"type\":\"histogram2d\",\"colorbar\":{\"outlinewidth\":0,\"ticks\":\"\"},\"colorscale\":[[0.0,\"#0d0887\"],[0.1111111111111111,\"#46039f\"],[0.2222222222222222,\"#7201a8\"],[0.3333333333333333,\"#9c179e\"],[0.4444444444444444,\"#bd3786\"],[0.5555555555555556,\"#d8576b\"],[0.6666666666666666,\"#ed7953\"],[0.7777777777777778,\"#fb9f3a\"],[0.8888888888888888,\"#fdca26\"],[1.0,\"#f0f921\"]]}],\"heatmap\":[{\"type\":\"heatmap\",\"colorbar\":{\"outlinewidth\":0,\"ticks\":\"\"},\"colorscale\":[[0.0,\"#0d0887\"],[0.1111111111111111,\"#46039f\"],[0.2222222222222222,\"#7201a8\"],[0.3333333333333333,\"#9c179e\"],[0.4444444444444444,\"#bd3786\"],[0.5555555555555556,\"#d8576b\"],[0.6666666666666666,\"#ed7953\"],[0.7777777777777778,\"#fb9f3a\"],[0.8888888888888888,\"#fdca26\"],[1.0,\"#f0f921\"]]}],\"heatmapgl\":[{\"type\":\"heatmapgl\",\"colorbar\":{\"outlinewidth\":0,\"ticks\":\"\"},\"colorscale\":[[0.0,\"#0d0887\"],[0.1111111111111111,\"#46039f\"],[0.2222222222222222,\"#7201a8\"],[0.3333333333333333,\"#9c179e\"],[0.4444444444444444,\"#bd3786\"],[0.5555555555555556,\"#d8576b\"],[0.6666666666666666,\"#ed7953\"],[0.7777777777777778,\"#fb9f3a\"],[0.8888888888888888,\"#fdca26\"],[1.0,\"#f0f921\"]]}],\"contourcarpet\":[{\"type\":\"contourcarpet\",\"colorbar\":{\"outlinewidth\":0,\"ticks\":\"\"}}],\"contour\":[{\"type\":\"contour\",\"colorbar\":{\"outlinewidth\":0,\"ticks\":\"\"},\"colorscale\":[[0.0,\"#0d0887\"],[0.1111111111111111,\"#46039f\"],[0.2222222222222222,\"#7201a8\"],[0.3333333333333333,\"#9c179e\"],[0.4444444444444444,\"#bd3786\"],[0.5555555555555556,\"#d8576b\"],[0.6666666666666666,\"#ed7953\"],[0.7777777777777778,\"#fb9f3a\"],[0.8888888888888888,\"#fdca26\"],[1.0,\"#f0f921\"]]}],\"surface\":[{\"type\":\"surface\",\"colorbar\":{\"outlinewidth\":0,\"ticks\":\"\"},\"colorscale\":[[0.0,\"#0d0887\"],[0.1111111111111111,\"#46039f\"],[0.2222222222222222,\"#7201a8\"],[0.3333333333333333,\"#9c179e\"],[0.4444444444444444,\"#bd3786\"],[0.5555555555555556,\"#d8576b\"],[0.6666666666666666,\"#ed7953\"],[0.7777777777777778,\"#fb9f3a\"],[0.8888888888888888,\"#fdca26\"],[1.0,\"#f0f921\"]]}],\"mesh3d\":[{\"type\":\"mesh3d\",\"colorbar\":{\"outlinewidth\":0,\"ticks\":\"\"}}],\"scatter\":[{\"fillpattern\":{\"fillmode\":\"overlay\",\"size\":10,\"solidity\":0.2},\"type\":\"scatter\"}],\"parcoords\":[{\"type\":\"parcoords\",\"line\":{\"colorbar\":{\"outlinewidth\":0,\"ticks\":\"\"}}}],\"scatterpolargl\":[{\"type\":\"scatterpolargl\",\"marker\":{\"colorbar\":{\"outlinewidth\":0,\"ticks\":\"\"}}}],\"bar\":[{\"error_x\":{\"color\":\"#2a3f5f\"},\"error_y\":{\"color\":\"#2a3f5f\"},\"marker\":{\"line\":{\"color\":\"#E5ECF6\",\"width\":0.5},\"pattern\":{\"fillmode\":\"overlay\",\"size\":10,\"solidity\":0.2}},\"type\":\"bar\"}],\"scattergeo\":[{\"type\":\"scattergeo\",\"marker\":{\"colorbar\":{\"outlinewidth\":0,\"ticks\":\"\"}}}],\"scatterpolar\":[{\"type\":\"scatterpolar\",\"marker\":{\"colorbar\":{\"outlinewidth\":0,\"ticks\":\"\"}}}],\"histogram\":[{\"marker\":{\"pattern\":{\"fillmode\":\"overlay\",\"size\":10,\"solidity\":0.2}},\"type\":\"histogram\"}],\"scattergl\":[{\"type\":\"scattergl\",\"marker\":{\"colorbar\":{\"outlinewidth\":0,\"ticks\":\"\"}}}],\"scatter3d\":[{\"type\":\"scatter3d\",\"line\":{\"colorbar\":{\"outlinewidth\":0,\"ticks\":\"\"}},\"marker\":{\"colorbar\":{\"outlinewidth\":0,\"ticks\":\"\"}}}],\"scattermapbox\":[{\"type\":\"scattermapbox\",\"marker\":{\"colorbar\":{\"outlinewidth\":0,\"ticks\":\"\"}}}],\"scatterternary\":[{\"type\":\"scatterternary\",\"marker\":{\"colorbar\":{\"outlinewidth\":0,\"ticks\":\"\"}}}],\"scattercarpet\":[{\"type\":\"scattercarpet\",\"marker\":{\"colorbar\":{\"outlinewidth\":0,\"ticks\":\"\"}}}],\"carpet\":[{\"aaxis\":{\"endlinecolor\":\"#2a3f5f\",\"gridcolor\":\"white\",\"linecolor\":\"white\",\"minorgridcolor\":\"white\",\"startlinecolor\":\"#2a3f5f\"},\"baxis\":{\"endlinecolor\":\"#2a3f5f\",\"gridcolor\":\"white\",\"linecolor\":\"white\",\"minorgridcolor\":\"white\",\"startlinecolor\":\"#2a3f5f\"},\"type\":\"carpet\"}],\"table\":[{\"cells\":{\"fill\":{\"color\":\"#EBF0F8\"},\"line\":{\"color\":\"white\"}},\"header\":{\"fill\":{\"color\":\"#C8D4E3\"},\"line\":{\"color\":\"white\"}},\"type\":\"table\"}],\"barpolar\":[{\"marker\":{\"line\":{\"color\":\"#E5ECF6\",\"width\":0.5},\"pattern\":{\"fillmode\":\"overlay\",\"size\":10,\"solidity\":0.2}},\"type\":\"barpolar\"}],\"pie\":[{\"automargin\":true,\"type\":\"pie\"}]},\"layout\":{\"autotypenumbers\":\"strict\",\"colorway\":[\"#636efa\",\"#EF553B\",\"#00cc96\",\"#ab63fa\",\"#FFA15A\",\"#19d3f3\",\"#FF6692\",\"#B6E880\",\"#FF97FF\",\"#FECB52\"],\"font\":{\"color\":\"#2a3f5f\"},\"hovermode\":\"closest\",\"hoverlabel\":{\"align\":\"left\"},\"paper_bgcolor\":\"white\",\"plot_bgcolor\":\"#E5ECF6\",\"polar\":{\"bgcolor\":\"#E5ECF6\",\"angularaxis\":{\"gridcolor\":\"white\",\"linecolor\":\"white\",\"ticks\":\"\"},\"radialaxis\":{\"gridcolor\":\"white\",\"linecolor\":\"white\",\"ticks\":\"\"}},\"ternary\":{\"bgcolor\":\"#E5ECF6\",\"aaxis\":{\"gridcolor\":\"white\",\"linecolor\":\"white\",\"ticks\":\"\"},\"baxis\":{\"gridcolor\":\"white\",\"linecolor\":\"white\",\"ticks\":\"\"},\"caxis\":{\"gridcolor\":\"white\",\"linecolor\":\"white\",\"ticks\":\"\"}},\"coloraxis\":{\"colorbar\":{\"outlinewidth\":0,\"ticks\":\"\"}},\"colorscale\":{\"sequential\":[[0.0,\"#0d0887\"],[0.1111111111111111,\"#46039f\"],[0.2222222222222222,\"#7201a8\"],[0.3333333333333333,\"#9c179e\"],[0.4444444444444444,\"#bd3786\"],[0.5555555555555556,\"#d8576b\"],[0.6666666666666666,\"#ed7953\"],[0.7777777777777778,\"#fb9f3a\"],[0.8888888888888888,\"#fdca26\"],[1.0,\"#f0f921\"]],\"sequentialminus\":[[0.0,\"#0d0887\"],[0.1111111111111111,\"#46039f\"],[0.2222222222222222,\"#7201a8\"],[0.3333333333333333,\"#9c179e\"],[0.4444444444444444,\"#bd3786\"],[0.5555555555555556,\"#d8576b\"],[0.6666666666666666,\"#ed7953\"],[0.7777777777777778,\"#fb9f3a\"],[0.8888888888888888,\"#fdca26\"],[1.0,\"#f0f921\"]],\"diverging\":[[0,\"#8e0152\"],[0.1,\"#c51b7d\"],[0.2,\"#de77ae\"],[0.3,\"#f1b6da\"],[0.4,\"#fde0ef\"],[0.5,\"#f7f7f7\"],[0.6,\"#e6f5d0\"],[0.7,\"#b8e186\"],[0.8,\"#7fbc41\"],[0.9,\"#4d9221\"],[1,\"#276419\"]]},\"xaxis\":{\"gridcolor\":\"white\",\"linecolor\":\"white\",\"ticks\":\"\",\"title\":{\"standoff\":15},\"zerolinecolor\":\"white\",\"automargin\":true,\"zerolinewidth\":2},\"yaxis\":{\"gridcolor\":\"white\",\"linecolor\":\"white\",\"ticks\":\"\",\"title\":{\"standoff\":15},\"zerolinecolor\":\"white\",\"automargin\":true,\"zerolinewidth\":2},\"scene\":{\"xaxis\":{\"backgroundcolor\":\"#E5ECF6\",\"gridcolor\":\"white\",\"linecolor\":\"white\",\"showbackground\":true,\"ticks\":\"\",\"zerolinecolor\":\"white\",\"gridwidth\":2},\"yaxis\":{\"backgroundcolor\":\"#E5ECF6\",\"gridcolor\":\"white\",\"linecolor\":\"white\",\"showbackground\":true,\"ticks\":\"\",\"zerolinecolor\":\"white\",\"gridwidth\":2},\"zaxis\":{\"backgroundcolor\":\"#E5ECF6\",\"gridcolor\":\"white\",\"linecolor\":\"white\",\"showbackground\":true,\"ticks\":\"\",\"zerolinecolor\":\"white\",\"gridwidth\":2}},\"shapedefaults\":{\"line\":{\"color\":\"#2a3f5f\"}},\"annotationdefaults\":{\"arrowcolor\":\"#2a3f5f\",\"arrowhead\":0,\"arrowwidth\":1},\"geo\":{\"bgcolor\":\"white\",\"landcolor\":\"#E5ECF6\",\"subunitcolor\":\"white\",\"showland\":true,\"showlakes\":true,\"lakecolor\":\"white\"},\"title\":{\"x\":0.05},\"mapbox\":{\"style\":\"light\"}}},\"scene\":{\"domain\":{\"x\":[0.0,1.0],\"y\":[0.0,1.0]},\"xaxis\":{\"title\":{\"text\":\"PC 1\"}},\"yaxis\":{\"title\":{\"text\":\"PC 2\"}},\"zaxis\":{\"title\":{\"text\":\"PC 3\"}}},\"coloraxis\":{\"colorbar\":{\"title\":{\"text\":\"color\"}},\"colorscale\":[[0.0,\"#0d0887\"],[0.1111111111111111,\"#46039f\"],[0.2222222222222222,\"#7201a8\"],[0.3333333333333333,\"#9c179e\"],[0.4444444444444444,\"#bd3786\"],[0.5555555555555556,\"#d8576b\"],[0.6666666666666666,\"#ed7953\"],[0.7777777777777778,\"#fb9f3a\"],[0.8888888888888888,\"#fdca26\"],[1.0,\"#f0f921\"]]},\"legend\":{\"tracegroupgap\":0},\"title\":{\"text\":\"Total Explained Variance: 100.00%\"}},                        {\"responsive\": true}                    ).then(function(){\n",
       "                            \n",
       "var gd = document.getElementById('3ea8d399-a4ee-4f13-a64a-5e3271439609');\n",
       "var x = new MutationObserver(function (mutations, observer) {{\n",
       "        var display = window.getComputedStyle(gd).display;\n",
       "        if (!display || display === 'none') {{\n",
       "            console.log([gd, 'removed!']);\n",
       "            Plotly.purge(gd);\n",
       "            observer.disconnect();\n",
       "        }}\n",
       "}});\n",
       "\n",
       "// Listen for the removal of the full notebook cells\n",
       "var notebookContainer = gd.closest('#notebook-container');\n",
       "if (notebookContainer) {{\n",
       "    x.observe(notebookContainer, {childList: true});\n",
       "}}\n",
       "\n",
       "// Listen for the clearing of the current output cell\n",
       "var outputEl = gd.closest('.output');\n",
       "if (outputEl) {{\n",
       "    x.observe(outputEl, {childList: true});\n",
       "}}\n",
       "\n",
       "                        })                };                });            </script>        </div>"
      ]
     },
     "metadata": {},
     "output_type": "display_data"
    }
   ],
   "source": [
    "total_var = pca.explained_variance_ratio_.sum() * 100\n",
    "\n",
    "fig = px.scatter_3d(\n",
    "    df_pca, x=0, y=1, z=2, color=df['PD'],\n",
    "    title=f'Total Explained Variance: {total_var:.2f}%',\n",
    "    labels={'0': 'PC 1', '1': 'PC 2', '2': 'PC 3'}\n",
    ")\n",
    "fig.show()"
   ]
  },
  {
   "cell_type": "code",
   "execution_count": 15,
   "metadata": {},
   "outputs": [
    {
     "data": {
      "text/plain": [
       "(38, 10)"
      ]
     },
     "execution_count": 15,
     "metadata": {},
     "output_type": "execute_result"
    }
   ],
   "source": [
    "transformer = FastICA(n_components=10,random_state=0)\n",
    "X_transformed = transformer.fit_transform(X)\n",
    "X_transformed.shape"
   ]
  },
  {
   "cell_type": "code",
   "execution_count": 27,
   "metadata": {},
   "outputs": [],
   "source": [
    "\n",
    "# Combine dimension reduction and tSNE. \n",
    "# Allow user to adjust the number of principal components and the perplexity of tSNE.\n",
    "# Plot interactively.\n",
    "## Define corresponding func for each of the dimension reduction approaches.\n",
    "def PCAsm(data, n, max_it):\n",
    "    name = \"PCA\"\n",
    "    pcaer = PCA(n_components=n)\n",
    "    pcad = pcaer.fit_transform(data)\n",
    "    df = pd.DataFrame(pcad, index=data.index)\n",
    "    print(\"Shape of dimension reduced matrix is:\", pcad.shape)\n",
    "    return df,name\n",
    "\n",
    "def FastICAsm(data, n, max_it):\n",
    "    name = \"ICA\"\n",
    "    icaer = FastICA(n_components=n, max_iter=max_it)\n",
    "    icad = icaer.fit_transform(data)\n",
    "    print(\"Shape of dimension reduced matrix is:\", icad.shape)\n",
    "    df = pd.DataFrame(icad, index=data.index)\n",
    "    return df,name\n",
    "\n",
    "def NMFsm(data, n, max_it):\n",
    "    name = \"NMF\"\n",
    "    nmfer = NMF(n_components=n,max_iter=max_it)\n",
    "    nmfd = nmfer.fit_transform(data)\n",
    "    print(\"Shape of dimension reduced matrix is:\", nmfd.shape)\n",
    "    df = pd.DataFrame(nmfd, index=data.index)\n",
    "    return df,name\n",
    "\n",
    "## Define the main func to take in all adjustable variables\n",
    "## Smush, save the new dataframe in df, and plot the tSNE plot.\n",
    "def f(data, sm, n = 10,perp = 30, max_it = 600, it = 1000):\n",
    "    \"\"\"\n",
    "    Reduce the dimension of original dataset via PCA, ICA or NMF as chosen by user.\n",
    "    The output dataframe will be used as input of tSNE.\n",
    "    Upon activation by interact(), user can choose their desired sm, n, perp, max_it, and it. \n",
    "    In current version, tSNE is using 'Manhattan' as the distance matrix and working at learning rate of 1000.\n",
    "    \n",
    "    Args:\n",
    "        sm: str. Name of smusher. Choose from PCA, ICA and NMF\n",
    "        n: int. Initial number of dimensions. The number of dimensions of smusher processed matrix before tSNE\n",
    "        perp: int. Perplexity level of tSNE\n",
    "        max_it: int. Maximum number of iterations in ICA or NMF\n",
    "        it: int. Maximum number of iterations in tSNE\n",
    "    \"\"\"\n",
    "    df, name = sm(data, n, max_it)\n",
    "    print(\"Perplexity level:\", perp)\n",
    "    tsner = TSNE(perplexity=perp,n_iter=it,metric='manhattan')\n",
    "    tsned = tsner.fit_transform(df)\n",
    "    plt.figure(figsize=(3,3))\n",
    "    plt.scatter(tsned[:,0],tsned[:,1], 10, c=\"y\")\n",
    "    plt.xlabel(\"tSNE1\",fontsize=16)\n",
    "    plt.ylabel(\"tSNE2\",fontsize=16)\n",
    "    plt.xticks(fontsize=16)\n",
    "    plt.yticks(fontsize=16)\n",
    "    title = name + \":\" + str(n) + \" initial dimensions, \" + \"perplexity level at \" + str(perp) + \", \" + str(it) + \" iterations\"\n",
    "    plt.title(title)"
   ]
  },
  {
   "cell_type": "code",
   "execution_count": 28,
   "metadata": {},
   "outputs": [
    {
     "name": "stdout",
     "output_type": "stream",
     "text": [
      "Shape of dimension reduced matrix is: (38, 11)\n",
      "Perplexity level: 30\n"
     ]
    },
    {
     "name": "stderr",
     "output_type": "stream",
     "text": [
      "/opt/homebrew/Caskroom/miniforge/base/envs/pd_sleep/lib/python3.9/site-packages/sklearn/manifold/_t_sne.py:780: FutureWarning:\n",
      "\n",
      "The default initialization in TSNE will change from 'random' to 'pca' in 1.2.\n",
      "\n",
      "/opt/homebrew/Caskroom/miniforge/base/envs/pd_sleep/lib/python3.9/site-packages/sklearn/manifold/_t_sne.py:790: FutureWarning:\n",
      "\n",
      "The default learning rate in TSNE will change from 200.0 to 'auto' in 1.2.\n",
      "\n",
      "/opt/homebrew/Caskroom/miniforge/base/envs/pd_sleep/lib/python3.9/site-packages/sklearn/manifold/_t_sne.py:819: FutureWarning:\n",
      "\n",
      "'square_distances' has been introduced in 0.24 to help phase out legacy squaring behavior. The 'legacy' setting will be removed in 1.1 (renaming of 0.26), and the default setting will be changed to True. In 1.3, 'square_distances' will be removed altogether, and distances will be squared by default. Set 'square_distances'=True to silence this warning.\n",
      "\n"
     ]
    },
    {
     "data": {
      "image/png": "[encoded data removed]",
      "text/plain": [
       "<Figure size 216x216 with 1 Axes>"
      ]
     },
     "metadata": {
      "needs_background": "light"
     },
     "output_type": "display_data"
    }
   ],
   "source": [
    "f(data=df, sm=FastICAsm, n = 11,perp = 30, max_it = 600, it = 1000)"
   ]
  },
  {
   "cell_type": "code",
   "execution_count": 24,
   "metadata": {},
   "outputs": [
    {
     "data": {
      "text/plain": [
       "(38, 12)"
      ]
     },
     "execution_count": 24,
     "metadata": {},
     "output_type": "execute_result"
    }
   ],
   "source": [
    "pcaer = PCA(n_components=12)\n",
    "pcad = pcaer.fit_transform(df)\n",
    "\n",
    "\n",
    "transformer = FastICA(n_components=12,random_state=0)\n",
    "X_transformed = transformer.fit_transform(pcad)\n",
    "\n",
    "X_transformed.shape"
   ]
  },
  {
   "cell_type": "code",
   "execution_count": 26,
   "metadata": {},
   "outputs": [
    {
     "data": {
      "application/vnd.plotly.v1+json": {
       "config": {
        "plotlyServerURL": "https://plot.ly"
       },
       "data": [
        {
         "diagonal": {
          "visible": false
         },
         "dimensions": [
          {
           "axis": {
            "matches": true
           },
           "label": "PC 1 (28.6%)",
           "values": [
            0.0011082201344376384,
            0.020987521931693474,
            -0.03116066525732532,
            -0.23114394151417822,
            -0.23757957737137828,
            0.7689527576005294,
            0.004614081416025897,
            -0.006737945498937823,
            -0.03379415213217635,
            0.11891330082740477,
            -0.376572546346173,
            0.0011538904398502926,
            0.0011357719423130024,
            0.0011119457311989129,
            -0.001246654203383746,
            0.01896177856656103,
            0.010653908317798156,
            0.26855956750023746,
            -0.10969434994868166,
            -0.0028534470434431356,
            0.03535640006348664,
            -0.008314152866336012,
            0.018134592020126836,
            0.0011102748361313947,
            -0.007931212104075568,
            -0.20970528912231695,
            -0.0018617248057665801,
            0.0361821176371982,
            -0.034109258335916985,
            -0.04974583970426185,
            0.04079675000456414,
            -0.04581999845654744,
            0.03490398355112122,
            0.00113274001501286,
            0.001146527932507328,
            0.0011497345649462967,
            0.0011280173975149286,
            0.0010768722802390834
           ]
          },
          {
           "axis": {
            "matches": true
           },
           "label": "PC 2 (16.9%)",
           "values": [
            -0.0500260972036678,
            -0.04785363872824881,
            -0.02592093117240056,
            -0.040533299229392396,
            -0.02528708705738901,
            -0.0187990266164548,
            0.05863115147937958,
            0.8173456491808521,
            0.02992101302209394,
            -0.007486650867622595,
            -0.029736297946748425,
            -0.04984396167207245,
            -0.04992610361422834,
            -0.04983434210302344,
            -0.053237202092248935,
            -0.06713542269203562,
            0.03210723612706608,
            -0.12469659899064395,
            -0.02394012358454873,
            0.009268383631561822,
            -0.09236936141233464,
            0.08079290649922954,
            -0.035040202383239405,
            -0.0498891882282939,
            0.026624655422017432,
            -0.12152780483954585,
            0.45892487724710185,
            -0.02751649487812031,
            -0.12661294125882044,
            -0.010147421537719586,
            -8.230150333048558e-05,
            -0.10705964140935115,
            -0.029972365579766347,
            -0.049859026923009656,
            -0.049773263334996765,
            -0.04978812739757771,
            -0.04982221960868472,
            -0.04989872874378542
           ]
          },
          {
           "axis": {
            "matches": true
           },
           "label": "PC 3 (10.7%)",
           "values": [
            0.04474855313971184,
            0.046815338585892374,
            0.087960430732098,
            0.08021755930635742,
            0.07532950530181559,
            0.043605055053848,
            0.06750217261310175,
            0.0079380799624329,
            -0.0014848995231021565,
            0.04538170106572605,
            0.045165826256016076,
            0.04461072126194721,
            0.04458271337827513,
            0.0447215977821825,
            0.043720607737116536,
            0.05060407284421484,
            -0.5376916582908003,
            0.0765046170563134,
            -0.0034983741943665075,
            -0.5851044343366398,
            0.09569224994015159,
            0.025173190869210244,
            0.025290005542935277,
            0.044672343811963895,
            0.04489159381743023,
            0.12990757057614388,
            0.04564826503351749,
            0.0190352587544759,
            -0.5151339293433099,
            0.028947777360810615,
            0.04827353812940521,
            -0.009415978293095184,
            0.07226192778957943,
            0.044634055239761154,
            0.04455477549873026,
            0.0445831018349088,
            0.044588405943777804,
            0.044766661761462226
           ]
          },
          {
           "axis": {
            "matches": true
           },
           "label": "PC 4 (9.1%)",
           "values": [
            -0.02153385504110468,
            0.00618288323811264,
            -0.014538216330406873,
            -0.03313485548779789,
            0.002395214106812182,
            0.011144315952857415,
            0.14753335233859588,
            0.009690437479933691,
            0.1578036922796136,
            -0.021714096218689943,
            0.047655757261892244,
            -0.021329232874240163,
            -0.021398654945085565,
            -0.02137504137554713,
            -0.016184825371846893,
            -0.166731319888899,
            0.05527318429583944,
            -0.10552076873028364,
            0.02742919451972802,
            0.0907697626490103,
            -0.08183288121289307,
            0.08114811982799831,
            -0.056919915363457425,
            -0.02143104132088228,
            0.07050048796612457,
            -0.34057561912754947,
            -0.1585589636214741,
            0.004501957248099019,
            -0.315921052421099,
            -0.01767288342893583,
            0.013032470359141783,
            0.7935176921795786,
            0.024519779910221386,
            -0.021379068803585234,
            -0.021271511840875945,
            -0.02128599835665252,
            -0.021310564932679292,
            -0.021477934919573057
           ]
          }
         ],
         "hovertemplate": "%{xaxis.title.text}=%{x}<br>%{yaxis.title.text}=%{y}<br>color=%{marker.color}<extra></extra>",
         "legendgroup": "",
         "marker": {
          "color": [
           1,
           1,
           1,
           1,
           1,
           1,
           1,
           1,
           1,
           1,
           1,
           1,
           1,
           1,
           0,
           0,
           0,
           0,
           0,
           0,
           0,
           0,
           0,
           0,
           0,
           0,
           0,
           0,
           0,
           0,
           0,
           0,
           0,
           0,
           0,
           0,
           0,
           0
          ],
          "coloraxis": "coloraxis",
          "symbol": "circle"
         },
         "name": "",
         "showlegend": false,
         "type": "splom"
        }
       ],
       "layout": {
        "coloraxis": {
         "colorbar": {
          "title": {
           "text": "color"
          }
         },
         "colorscale": [
          [
           0,
           "#0d0887"
          ],
          [
           0.1111111111111111,
           "#46039f"
          ],
          [
           0.2222222222222222,
           "#7201a8"
          ],
          [
           0.3333333333333333,
           "#9c179e"
          ],
          [
           0.4444444444444444,
           "#bd3786"
          ],
          [
           0.5555555555555556,
           "#d8576b"
          ],
          [
           0.6666666666666666,
           "#ed7953"
          ],
          [
           0.7777777777777778,
           "#fb9f3a"
          ],
          [
           0.8888888888888888,
           "#fdca26"
          ],
          [
           1,
           "#f0f921"
          ]
         ]
        },
        "dragmode": "select",
        "legend": {
         "tracegroupgap": 0
        },
        "margin": {
         "t": 60
        },
        "template": {
         "data": {
          "bar": [
           {
            "error_x": {
             "color": "#2a3f5f"
            },
            "error_y": {
             "color": "#2a3f5f"
            },
            "marker": {
             "line": {
              "color": "#E5ECF6",
              "width": 0.5
             },
             "pattern": {
              "fillmode": "overlay",
              "size": 10,
              "solidity": 0.2
             }
            },
            "type": "bar"
           }
          ],
          "barpolar": [
           {
            "marker": {
             "line": {
              "color": "#E5ECF6",
              "width": 0.5
             },
             "pattern": {
              "fillmode": "overlay",
              "size": 10,
              "solidity": 0.2
             }
            },
            "type": "barpolar"
           }
          ],
          "carpet": [
           {
            "aaxis": {
             "endlinecolor": "#2a3f5f",
             "gridcolor": "white",
             "linecolor": "white",
             "minorgridcolor": "white",
             "startlinecolor": "#2a3f5f"
            },
            "baxis": {
             "endlinecolor": "#2a3f5f",
             "gridcolor": "white",
             "linecolor": "white",
             "minorgridcolor": "white",
             "startlinecolor": "#2a3f5f"
            },
            "type": "carpet"
           }
          ],
          "choropleth": [
           {
            "colorbar": {
             "outlinewidth": 0,
             "ticks": ""
            },
            "type": "choropleth"
           }
          ],
          "contour": [
           {
            "colorbar": {
             "outlinewidth": 0,
             "ticks": ""
            },
            "colorscale": [
             [
              0,
              "#0d0887"
             ],
             [
              0.1111111111111111,
              "#46039f"
             ],
             [
              0.2222222222222222,
              "#7201a8"
             ],
             [
              0.3333333333333333,
              "#9c179e"
             ],
             [
              0.4444444444444444,
              "#bd3786"
             ],
             [
              0.5555555555555556,
              "#d8576b"
             ],
             [
              0.6666666666666666,
              "#ed7953"
             ],
             [
              0.7777777777777778,
              "#fb9f3a"
             ],
             [
              0.8888888888888888,
              "#fdca26"
             ],
             [
              1,
              "#f0f921"
             ]
            ],
            "type": "contour"
           }
          ],
          "contourcarpet": [
           {
            "colorbar": {
             "outlinewidth": 0,
             "ticks": ""
            },
            "type": "contourcarpet"
           }
          ],
          "heatmap": [
           {
            "colorbar": {
             "outlinewidth": 0,
             "ticks": ""
            },
            "colorscale": [
             [
              0,
              "#0d0887"
             ],
             [
              0.1111111111111111,
              "#46039f"
             ],
             [
              0.2222222222222222,
              "#7201a8"
             ],
             [
              0.3333333333333333,
              "#9c179e"
             ],
             [
              0.4444444444444444,
              "#bd3786"
             ],
             [
              0.5555555555555556,
              "#d8576b"
             ],
             [
              0.6666666666666666,
              "#ed7953"
             ],
             [
              0.7777777777777778,
              "#fb9f3a"
             ],
             [
              0.8888888888888888,
              "#fdca26"
             ],
             [
              1,
              "#f0f921"
             ]
            ],
            "type": "heatmap"
           }
          ],
          "heatmapgl": [
           {
            "colorbar": {
             "outlinewidth": 0,
             "ticks": ""
            },
            "colorscale": [
             [
              0,
              "#0d0887"
             ],
             [
              0.1111111111111111,
              "#46039f"
             ],
             [
              0.2222222222222222,
              "#7201a8"
             ],
             [
              0.3333333333333333,
              "#9c179e"
             ],
             [
              0.4444444444444444,
              "#bd3786"
             ],
             [
              0.5555555555555556,
              "#d8576b"
             ],
             [
              0.6666666666666666,
              "#ed7953"
             ],
             [
              0.7777777777777778,
              "#fb9f3a"
             ],
             [
              0.8888888888888888,
              "#fdca26"
             ],
             [
              1,
              "#f0f921"
             ]
            ],
            "type": "heatmapgl"
           }
          ],
          "histogram": [
           {
            "marker": {
             "pattern": {
              "fillmode": "overlay",
              "size": 10,
              "solidity": 0.2
             }
            },
            "type": "histogram"
           }
          ],
          "histogram2d": [
           {
            "colorbar": {
             "outlinewidth": 0,
             "ticks": ""
            },
            "colorscale": [
             [
              0,
              "#0d0887"
             ],
             [
              0.1111111111111111,
              "#46039f"
             ],
             [
              0.2222222222222222,
              "#7201a8"
             ],
             [
              0.3333333333333333,
              "#9c179e"
             ],
             [
              0.4444444444444444,
              "#bd3786"
             ],
             [
              0.5555555555555556,
              "#d8576b"
             ],
             [
              0.6666666666666666,
              "#ed7953"
             ],
             [
              0.7777777777777778,
              "#fb9f3a"
             ],
             [
              0.8888888888888888,
              "#fdca26"
             ],
             [
              1,
              "#f0f921"
             ]
            ],
            "type": "histogram2d"
           }
          ],
          "histogram2dcontour": [
           {
            "colorbar": {
             "outlinewidth": 0,
             "ticks": ""
            },
            "colorscale": [
             [
              0,
              "#0d0887"
             ],
             [
              0.1111111111111111,
              "#46039f"
             ],
             [
              0.2222222222222222,
              "#7201a8"
             ],
             [
              0.3333333333333333,
              "#9c179e"
             ],
             [
              0.4444444444444444,
              "#bd3786"
             ],
             [
              0.5555555555555556,
              "#d8576b"
             ],
             [
              0.6666666666666666,
              "#ed7953"
             ],
             [
              0.7777777777777778,
              "#fb9f3a"
             ],
             [
              0.8888888888888888,
              "#fdca26"
             ],
             [
              1,
              "#f0f921"
             ]
            ],
            "type": "histogram2dcontour"
           }
          ],
          "mesh3d": [
           {
            "colorbar": {
             "outlinewidth": 0,
             "ticks": ""
            },
            "type": "mesh3d"
           }
          ],
          "parcoords": [
           {
            "line": {
             "colorbar": {
              "outlinewidth": 0,
              "ticks": ""
             }
            },
            "type": "parcoords"
           }
          ],
          "pie": [
           {
            "automargin": true,
            "type": "pie"
           }
          ],
          "scatter": [
           {
            "fillpattern": {
             "fillmode": "overlay",
             "size": 10,
             "solidity": 0.2
            },
            "type": "scatter"
           }
          ],
          "scatter3d": [
           {
            "line": {
             "colorbar": {
              "outlinewidth": 0,
              "ticks": ""
             }
            },
            "marker": {
             "colorbar": {
              "outlinewidth": 0,
              "ticks": ""
             }
            },
            "type": "scatter3d"
           }
          ],
          "scattercarpet": [
           {
            "marker": {
             "colorbar": {
              "outlinewidth": 0,
              "ticks": ""
             }
            },
            "type": "scattercarpet"
           }
          ],
          "scattergeo": [
           {
            "marker": {
             "colorbar": {
              "outlinewidth": 0,
              "ticks": ""
             }
            },
            "type": "scattergeo"
           }
          ],
          "scattergl": [
           {
            "marker": {
             "colorbar": {
              "outlinewidth": 0,
              "ticks": ""
             }
            },
            "type": "scattergl"
           }
          ],
          "scattermapbox": [
           {
            "marker": {
             "colorbar": {
              "outlinewidth": 0,
              "ticks": ""
             }
            },
            "type": "scattermapbox"
           }
          ],
          "scatterpolar": [
           {
            "marker": {
             "colorbar": {
              "outlinewidth": 0,
              "ticks": ""
             }
            },
            "type": "scatterpolar"
           }
          ],
          "scatterpolargl": [
           {
            "marker": {
             "colorbar": {
              "outlinewidth": 0,
              "ticks": ""
             }
            },
            "type": "scatterpolargl"
           }
          ],
          "scatterternary": [
           {
            "marker": {
             "colorbar": {
              "outlinewidth": 0,
              "ticks": ""
             }
            },
            "type": "scatterternary"
           }
          ],
          "surface": [
           {
            "colorbar": {
             "outlinewidth": 0,
             "ticks": ""
            },
            "colorscale": [
             [
              0,
              "#0d0887"
             ],
             [
              0.1111111111111111,
              "#46039f"
             ],
             [
              0.2222222222222222,
              "#7201a8"
             ],
             [
              0.3333333333333333,
              "#9c179e"
             ],
             [
              0.4444444444444444,
              "#bd3786"
             ],
             [
              0.5555555555555556,
              "#d8576b"
             ],
             [
              0.6666666666666666,
              "#ed7953"
             ],
             [
              0.7777777777777778,
              "#fb9f3a"
             ],
             [
              0.8888888888888888,
              "#fdca26"
             ],
             [
              1,
              "#f0f921"
             ]
            ],
            "type": "surface"
           }
          ],
          "table": [
           {
            "cells": {
             "fill": {
              "color": "#EBF0F8"
             },
             "line": {
              "color": "white"
             }
            },
            "header": {
             "fill": {
              "color": "#C8D4E3"
             },
             "line": {
              "color": "white"
             }
            },
            "type": "table"
           }
          ]
         },
         "layout": {
          "annotationdefaults": {
           "arrowcolor": "#2a3f5f",
           "arrowhead": 0,
           "arrowwidth": 1
          },
          "autotypenumbers": "strict",
          "coloraxis": {
           "colorbar": {
            "outlinewidth": 0,
            "ticks": ""
           }
          },
          "colorscale": {
           "diverging": [
            [
             0,
             "#8e0152"
            ],
            [
             0.1,
             "#c51b7d"
            ],
            [
             0.2,
             "#de77ae"
            ],
            [
             0.3,
             "#f1b6da"
            ],
            [
             0.4,
             "#fde0ef"
            ],
            [
             0.5,
             "#f7f7f7"
            ],
            [
             0.6,
             "#e6f5d0"
            ],
            [
             0.7,
             "#b8e186"
            ],
            [
             0.8,
             "#7fbc41"
            ],
            [
             0.9,
             "#4d9221"
            ],
            [
             1,
             "#276419"
            ]
           ],
           "sequential": [
            [
             0,
             "#0d0887"
            ],
            [
             0.1111111111111111,
             "#46039f"
            ],
            [
             0.2222222222222222,
             "#7201a8"
            ],
            [
             0.3333333333333333,
             "#9c179e"
            ],
            [
             0.4444444444444444,
             "#bd3786"
            ],
            [
             0.5555555555555556,
             "#d8576b"
            ],
            [
             0.6666666666666666,
             "#ed7953"
            ],
            [
             0.7777777777777778,
             "#fb9f3a"
            ],
            [
             0.8888888888888888,
             "#fdca26"
            ],
            [
             1,
             "#f0f921"
            ]
           ],
           "sequentialminus": [
            [
             0,
             "#0d0887"
            ],
            [
             0.1111111111111111,
             "#46039f"
            ],
            [
             0.2222222222222222,
             "#7201a8"
            ],
            [
             0.3333333333333333,
             "#9c179e"
            ],
            [
             0.4444444444444444,
             "#bd3786"
            ],
            [
             0.5555555555555556,
             "#d8576b"
            ],
            [
             0.6666666666666666,
             "#ed7953"
            ],
            [
             0.7777777777777778,
             "#fb9f3a"
            ],
            [
             0.8888888888888888,
             "#fdca26"
            ],
            [
             1,
             "#f0f921"
            ]
           ]
          },
          "colorway": [
           "#636efa",
           "#EF553B",
           "#00cc96",
           "#ab63fa",
           "#FFA15A",
           "#19d3f3",
           "#FF6692",
           "#B6E880",
           "#FF97FF",
           "#FECB52"
          ],
          "font": {
           "color": "#2a3f5f"
          },
          "geo": {
           "bgcolor": "white",
           "lakecolor": "white",
           "landcolor": "#E5ECF6",
           "showlakes": true,
           "showland": true,
           "subunitcolor": "white"
          },
          "hoverlabel": {
           "align": "left"
          },
          "hovermode": "closest",
          "mapbox": {
           "style": "light"
          },
          "paper_bgcolor": "white",
          "plot_bgcolor": "#E5ECF6",
          "polar": {
           "angularaxis": {
            "gridcolor": "white",
            "linecolor": "white",
            "ticks": ""
           },
           "bgcolor": "#E5ECF6",
           "radialaxis": {
            "gridcolor": "white",
            "linecolor": "white",
            "ticks": ""
           }
          },
          "scene": {
           "xaxis": {
            "backgroundcolor": "#E5ECF6",
            "gridcolor": "white",
            "gridwidth": 2,
            "linecolor": "white",
            "showbackground": true,
            "ticks": "",
            "zerolinecolor": "white"
           },
           "yaxis": {
            "backgroundcolor": "#E5ECF6",
            "gridcolor": "white",
            "gridwidth": 2,
            "linecolor": "white",
            "showbackground": true,
            "ticks": "",
            "zerolinecolor": "white"
           },
           "zaxis": {
            "backgroundcolor": "#E5ECF6",
            "gridcolor": "white",
            "gridwidth": 2,
            "linecolor": "white",
            "showbackground": true,
            "ticks": "",
            "zerolinecolor": "white"
           }
          },
          "shapedefaults": {
           "line": {
            "color": "#2a3f5f"
           }
          },
          "ternary": {
           "aaxis": {
            "gridcolor": "white",
            "linecolor": "white",
            "ticks": ""
           },
           "baxis": {
            "gridcolor": "white",
            "linecolor": "white",
            "ticks": ""
           },
           "bgcolor": "#E5ECF6",
           "caxis": {
            "gridcolor": "white",
            "linecolor": "white",
            "ticks": ""
           }
          },
          "title": {
           "x": 0.05
          },
          "xaxis": {
           "automargin": true,
           "gridcolor": "white",
           "linecolor": "white",
           "ticks": "",
           "title": {
            "standoff": 15
           },
           "zerolinecolor": "white",
           "zerolinewidth": 2
          },
          "yaxis": {
           "automargin": true,
           "gridcolor": "white",
           "linecolor": "white",
           "ticks": "",
           "title": {
            "standoff": 15
           },
           "zerolinecolor": "white",
           "zerolinewidth": 2
          }
         }
        }
       }
      },
      "text/html": [
       "<div>                            <div id=\"3d592d38-5a12-484b-acec-70d991ed7131\" class=\"plotly-graph-div\" style=\"height:525px; width:100%;\"></div>            <script type=\"text/javascript\">                require([\"plotly\"], function(Plotly) {                    window.PLOTLYENV=window.PLOTLYENV || {};                                    if (document.getElementById(\"3d592d38-5a12-484b-acec-70d991ed7131\")) {                    Plotly.newPlot(                        \"3d592d38-5a12-484b-acec-70d991ed7131\",                        [{\"dimensions\":[{\"axis\":{\"matches\":true},\"label\":\"PC 1 (28.6%)\",\"values\":[0.0011082201344376384,0.020987521931693474,-0.03116066525732532,-0.23114394151417822,-0.23757957737137828,0.7689527576005294,0.004614081416025897,-0.006737945498937823,-0.03379415213217635,0.11891330082740477,-0.376572546346173,0.0011538904398502926,0.0011357719423130024,0.0011119457311989129,-0.001246654203383746,0.01896177856656103,0.010653908317798156,0.26855956750023746,-0.10969434994868166,-0.0028534470434431356,0.03535640006348664,-0.008314152866336012,0.018134592020126836,0.0011102748361313947,-0.007931212104075568,-0.20970528912231695,-0.0018617248057665801,0.0361821176371982,-0.034109258335916985,-0.04974583970426185,0.04079675000456414,-0.04581999845654744,0.03490398355112122,0.00113274001501286,0.001146527932507328,0.0011497345649462967,0.0011280173975149286,0.0010768722802390834]},{\"axis\":{\"matches\":true},\"label\":\"PC 2 (16.9%)\",\"values\":[-0.0500260972036678,-0.04785363872824881,-0.02592093117240056,-0.040533299229392396,-0.02528708705738901,-0.0187990266164548,0.05863115147937958,0.8173456491808521,0.02992101302209394,-0.007486650867622595,-0.029736297946748425,-0.04984396167207245,-0.04992610361422834,-0.04983434210302344,-0.053237202092248935,-0.06713542269203562,0.03210723612706608,-0.12469659899064395,-0.02394012358454873,0.009268383631561822,-0.09236936141233464,0.08079290649922954,-0.035040202383239405,-0.0498891882282939,0.026624655422017432,-0.12152780483954585,0.45892487724710185,-0.02751649487812031,-0.12661294125882044,-0.010147421537719586,-8.230150333048558e-05,-0.10705964140935115,-0.029972365579766347,-0.049859026923009656,-0.049773263334996765,-0.04978812739757771,-0.04982221960868472,-0.04989872874378542]},{\"axis\":{\"matches\":true},\"label\":\"PC 3 (10.7%)\",\"values\":[0.04474855313971184,0.046815338585892374,0.087960430732098,0.08021755930635742,0.07532950530181559,0.043605055053848,0.06750217261310175,0.0079380799624329,-0.0014848995231021565,0.04538170106572605,0.045165826256016076,0.04461072126194721,0.04458271337827513,0.0447215977821825,0.043720607737116536,0.05060407284421484,-0.5376916582908003,0.0765046170563134,-0.0034983741943665075,-0.5851044343366398,0.09569224994015159,0.025173190869210244,0.025290005542935277,0.044672343811963895,0.04489159381743023,0.12990757057614388,0.04564826503351749,0.0190352587544759,-0.5151339293433099,0.028947777360810615,0.04827353812940521,-0.009415978293095184,0.07226192778957943,0.044634055239761154,0.04455477549873026,0.0445831018349088,0.044588405943777804,0.044766661761462226]},{\"axis\":{\"matches\":true},\"label\":\"PC 4 (9.1%)\",\"values\":[-0.02153385504110468,0.00618288323811264,-0.014538216330406873,-0.03313485548779789,0.002395214106812182,0.011144315952857415,0.14753335233859588,0.009690437479933691,0.1578036922796136,-0.021714096218689943,0.047655757261892244,-0.021329232874240163,-0.021398654945085565,-0.02137504137554713,-0.016184825371846893,-0.166731319888899,0.05527318429583944,-0.10552076873028364,0.02742919451972802,0.0907697626490103,-0.08183288121289307,0.08114811982799831,-0.056919915363457425,-0.02143104132088228,0.07050048796612457,-0.34057561912754947,-0.1585589636214741,0.004501957248099019,-0.315921052421099,-0.01767288342893583,0.013032470359141783,0.7935176921795786,0.024519779910221386,-0.021379068803585234,-0.021271511840875945,-0.02128599835665252,-0.021310564932679292,-0.021477934919573057]}],\"hovertemplate\":\"%{xaxis.title.text}=%{x}<br>%{yaxis.title.text}=%{y}<br>color=%{marker.color}<extra></extra>\",\"legendgroup\":\"\",\"marker\":{\"color\":[1,1,1,1,1,1,1,1,1,1,1,1,1,1,0,0,0,0,0,0,0,0,0,0,0,0,0,0,0,0,0,0,0,0,0,0,0,0],\"coloraxis\":\"coloraxis\",\"symbol\":\"circle\"},\"name\":\"\",\"showlegend\":false,\"type\":\"splom\",\"diagonal\":{\"visible\":false}}],                        {\"template\":{\"data\":{\"histogram2dcontour\":[{\"type\":\"histogram2dcontour\",\"colorbar\":{\"outlinewidth\":0,\"ticks\":\"\"},\"colorscale\":[[0.0,\"#0d0887\"],[0.1111111111111111,\"#46039f\"],[0.2222222222222222,\"#7201a8\"],[0.3333333333333333,\"#9c179e\"],[0.4444444444444444,\"#bd3786\"],[0.5555555555555556,\"#d8576b\"],[0.6666666666666666,\"#ed7953\"],[0.7777777777777778,\"#fb9f3a\"],[0.8888888888888888,\"#fdca26\"],[1.0,\"#f0f921\"]]}],\"choropleth\":[{\"type\":\"choropleth\",\"colorbar\":{\"outlinewidth\":0,\"ticks\":\"\"}}],\"histogram2d\":[{\"type\":\"histogram2d\",\"colorbar\":{\"outlinewidth\":0,\"ticks\":\"\"},\"colorscale\":[[0.0,\"#0d0887\"],[0.1111111111111111,\"#46039f\"],[0.2222222222222222,\"#7201a8\"],[0.3333333333333333,\"#9c179e\"],[0.4444444444444444,\"#bd3786\"],[0.5555555555555556,\"#d8576b\"],[0.6666666666666666,\"#ed7953\"],[0.7777777777777778,\"#fb9f3a\"],[0.8888888888888888,\"#fdca26\"],[1.0,\"#f0f921\"]]}],\"heatmap\":[{\"type\":\"heatmap\",\"colorbar\":{\"outlinewidth\":0,\"ticks\":\"\"},\"colorscale\":[[0.0,\"#0d0887\"],[0.1111111111111111,\"#46039f\"],[0.2222222222222222,\"#7201a8\"],[0.3333333333333333,\"#9c179e\"],[0.4444444444444444,\"#bd3786\"],[0.5555555555555556,\"#d8576b\"],[0.6666666666666666,\"#ed7953\"],[0.7777777777777778,\"#fb9f3a\"],[0.8888888888888888,\"#fdca26\"],[1.0,\"#f0f921\"]]}],\"heatmapgl\":[{\"type\":\"heatmapgl\",\"colorbar\":{\"outlinewidth\":0,\"ticks\":\"\"},\"colorscale\":[[0.0,\"#0d0887\"],[0.1111111111111111,\"#46039f\"],[0.2222222222222222,\"#7201a8\"],[0.3333333333333333,\"#9c179e\"],[0.4444444444444444,\"#bd3786\"],[0.5555555555555556,\"#d8576b\"],[0.6666666666666666,\"#ed7953\"],[0.7777777777777778,\"#fb9f3a\"],[0.8888888888888888,\"#fdca26\"],[1.0,\"#f0f921\"]]}],\"contourcarpet\":[{\"type\":\"contourcarpet\",\"colorbar\":{\"outlinewidth\":0,\"ticks\":\"\"}}],\"contour\":[{\"type\":\"contour\",\"colorbar\":{\"outlinewidth\":0,\"ticks\":\"\"},\"colorscale\":[[0.0,\"#0d0887\"],[0.1111111111111111,\"#46039f\"],[0.2222222222222222,\"#7201a8\"],[0.3333333333333333,\"#9c179e\"],[0.4444444444444444,\"#bd3786\"],[0.5555555555555556,\"#d8576b\"],[0.6666666666666666,\"#ed7953\"],[0.7777777777777778,\"#fb9f3a\"],[0.8888888888888888,\"#fdca26\"],[1.0,\"#f0f921\"]]}],\"surface\":[{\"type\":\"surface\",\"colorbar\":{\"outlinewidth\":0,\"ticks\":\"\"},\"colorscale\":[[0.0,\"#0d0887\"],[0.1111111111111111,\"#46039f\"],[0.2222222222222222,\"#7201a8\"],[0.3333333333333333,\"#9c179e\"],[0.4444444444444444,\"#bd3786\"],[0.5555555555555556,\"#d8576b\"],[0.6666666666666666,\"#ed7953\"],[0.7777777777777778,\"#fb9f3a\"],[0.8888888888888888,\"#fdca26\"],[1.0,\"#f0f921\"]]}],\"mesh3d\":[{\"type\":\"mesh3d\",\"colorbar\":{\"outlinewidth\":0,\"ticks\":\"\"}}],\"scatter\":[{\"fillpattern\":{\"fillmode\":\"overlay\",\"size\":10,\"solidity\":0.2},\"type\":\"scatter\"}],\"parcoords\":[{\"type\":\"parcoords\",\"line\":{\"colorbar\":{\"outlinewidth\":0,\"ticks\":\"\"}}}],\"scatterpolargl\":[{\"type\":\"scatterpolargl\",\"marker\":{\"colorbar\":{\"outlinewidth\":0,\"ticks\":\"\"}}}],\"bar\":[{\"error_x\":{\"color\":\"#2a3f5f\"},\"error_y\":{\"color\":\"#2a3f5f\"},\"marker\":{\"line\":{\"color\":\"#E5ECF6\",\"width\":0.5},\"pattern\":{\"fillmode\":\"overlay\",\"size\":10,\"solidity\":0.2}},\"type\":\"bar\"}],\"scattergeo\":[{\"type\":\"scattergeo\",\"marker\":{\"colorbar\":{\"outlinewidth\":0,\"ticks\":\"\"}}}],\"scatterpolar\":[{\"type\":\"scatterpolar\",\"marker\":{\"colorbar\":{\"outlinewidth\":0,\"ticks\":\"\"}}}],\"histogram\":[{\"marker\":{\"pattern\":{\"fillmode\":\"overlay\",\"size\":10,\"solidity\":0.2}},\"type\":\"histogram\"}],\"scattergl\":[{\"type\":\"scattergl\",\"marker\":{\"colorbar\":{\"outlinewidth\":0,\"ticks\":\"\"}}}],\"scatter3d\":[{\"type\":\"scatter3d\",\"line\":{\"colorbar\":{\"outlinewidth\":0,\"ticks\":\"\"}},\"marker\":{\"colorbar\":{\"outlinewidth\":0,\"ticks\":\"\"}}}],\"scattermapbox\":[{\"type\":\"scattermapbox\",\"marker\":{\"colorbar\":{\"outlinewidth\":0,\"ticks\":\"\"}}}],\"scatterternary\":[{\"type\":\"scatterternary\",\"marker\":{\"colorbar\":{\"outlinewidth\":0,\"ticks\":\"\"}}}],\"scattercarpet\":[{\"type\":\"scattercarpet\",\"marker\":{\"colorbar\":{\"outlinewidth\":0,\"ticks\":\"\"}}}],\"carpet\":[{\"aaxis\":{\"endlinecolor\":\"#2a3f5f\",\"gridcolor\":\"white\",\"linecolor\":\"white\",\"minorgridcolor\":\"white\",\"startlinecolor\":\"#2a3f5f\"},\"baxis\":{\"endlinecolor\":\"#2a3f5f\",\"gridcolor\":\"white\",\"linecolor\":\"white\",\"minorgridcolor\":\"white\",\"startlinecolor\":\"#2a3f5f\"},\"type\":\"carpet\"}],\"table\":[{\"cells\":{\"fill\":{\"color\":\"#EBF0F8\"},\"line\":{\"color\":\"white\"}},\"header\":{\"fill\":{\"color\":\"#C8D4E3\"},\"line\":{\"color\":\"white\"}},\"type\":\"table\"}],\"barpolar\":[{\"marker\":{\"line\":{\"color\":\"#E5ECF6\",\"width\":0.5},\"pattern\":{\"fillmode\":\"overlay\",\"size\":10,\"solidity\":0.2}},\"type\":\"barpolar\"}],\"pie\":[{\"automargin\":true,\"type\":\"pie\"}]},\"layout\":{\"autotypenumbers\":\"strict\",\"colorway\":[\"#636efa\",\"#EF553B\",\"#00cc96\",\"#ab63fa\",\"#FFA15A\",\"#19d3f3\",\"#FF6692\",\"#B6E880\",\"#FF97FF\",\"#FECB52\"],\"font\":{\"color\":\"#2a3f5f\"},\"hovermode\":\"closest\",\"hoverlabel\":{\"align\":\"left\"},\"paper_bgcolor\":\"white\",\"plot_bgcolor\":\"#E5ECF6\",\"polar\":{\"bgcolor\":\"#E5ECF6\",\"angularaxis\":{\"gridcolor\":\"white\",\"linecolor\":\"white\",\"ticks\":\"\"},\"radialaxis\":{\"gridcolor\":\"white\",\"linecolor\":\"white\",\"ticks\":\"\"}},\"ternary\":{\"bgcolor\":\"#E5ECF6\",\"aaxis\":{\"gridcolor\":\"white\",\"linecolor\":\"white\",\"ticks\":\"\"},\"baxis\":{\"gridcolor\":\"white\",\"linecolor\":\"white\",\"ticks\":\"\"},\"caxis\":{\"gridcolor\":\"white\",\"linecolor\":\"white\",\"ticks\":\"\"}},\"coloraxis\":{\"colorbar\":{\"outlinewidth\":0,\"ticks\":\"\"}},\"colorscale\":{\"sequential\":[[0.0,\"#0d0887\"],[0.1111111111111111,\"#46039f\"],[0.2222222222222222,\"#7201a8\"],[0.3333333333333333,\"#9c179e\"],[0.4444444444444444,\"#bd3786\"],[0.5555555555555556,\"#d8576b\"],[0.6666666666666666,\"#ed7953\"],[0.7777777777777778,\"#fb9f3a\"],[0.8888888888888888,\"#fdca26\"],[1.0,\"#f0f921\"]],\"sequentialminus\":[[0.0,\"#0d0887\"],[0.1111111111111111,\"#46039f\"],[0.2222222222222222,\"#7201a8\"],[0.3333333333333333,\"#9c179e\"],[0.4444444444444444,\"#bd3786\"],[0.5555555555555556,\"#d8576b\"],[0.6666666666666666,\"#ed7953\"],[0.7777777777777778,\"#fb9f3a\"],[0.8888888888888888,\"#fdca26\"],[1.0,\"#f0f921\"]],\"diverging\":[[0,\"#8e0152\"],[0.1,\"#c51b7d\"],[0.2,\"#de77ae\"],[0.3,\"#f1b6da\"],[0.4,\"#fde0ef\"],[0.5,\"#f7f7f7\"],[0.6,\"#e6f5d0\"],[0.7,\"#b8e186\"],[0.8,\"#7fbc41\"],[0.9,\"#4d9221\"],[1,\"#276419\"]]},\"xaxis\":{\"gridcolor\":\"white\",\"linecolor\":\"white\",\"ticks\":\"\",\"title\":{\"standoff\":15},\"zerolinecolor\":\"white\",\"automargin\":true,\"zerolinewidth\":2},\"yaxis\":{\"gridcolor\":\"white\",\"linecolor\":\"white\",\"ticks\":\"\",\"title\":{\"standoff\":15},\"zerolinecolor\":\"white\",\"automargin\":true,\"zerolinewidth\":2},\"scene\":{\"xaxis\":{\"backgroundcolor\":\"#E5ECF6\",\"gridcolor\":\"white\",\"linecolor\":\"white\",\"showbackground\":true,\"ticks\":\"\",\"zerolinecolor\":\"white\",\"gridwidth\":2},\"yaxis\":{\"backgroundcolor\":\"#E5ECF6\",\"gridcolor\":\"white\",\"linecolor\":\"white\",\"showbackground\":true,\"ticks\":\"\",\"zerolinecolor\":\"white\",\"gridwidth\":2},\"zaxis\":{\"backgroundcolor\":\"#E5ECF6\",\"gridcolor\":\"white\",\"linecolor\":\"white\",\"showbackground\":true,\"ticks\":\"\",\"zerolinecolor\":\"white\",\"gridwidth\":2}},\"shapedefaults\":{\"line\":{\"color\":\"#2a3f5f\"}},\"annotationdefaults\":{\"arrowcolor\":\"#2a3f5f\",\"arrowhead\":0,\"arrowwidth\":1},\"geo\":{\"bgcolor\":\"white\",\"landcolor\":\"#E5ECF6\",\"subunitcolor\":\"white\",\"showland\":true,\"showlakes\":true,\"lakecolor\":\"white\"},\"title\":{\"x\":0.05},\"mapbox\":{\"style\":\"light\"}}},\"coloraxis\":{\"colorbar\":{\"title\":{\"text\":\"color\"}},\"colorscale\":[[0.0,\"#0d0887\"],[0.1111111111111111,\"#46039f\"],[0.2222222222222222,\"#7201a8\"],[0.3333333333333333,\"#9c179e\"],[0.4444444444444444,\"#bd3786\"],[0.5555555555555556,\"#d8576b\"],[0.6666666666666666,\"#ed7953\"],[0.7777777777777778,\"#fb9f3a\"],[0.8888888888888888,\"#fdca26\"],[1.0,\"#f0f921\"]]},\"legend\":{\"tracegroupgap\":0},\"margin\":{\"t\":60},\"dragmode\":\"select\"},                        {\"responsive\": true}                    ).then(function(){\n",
       "                            \n",
       "var gd = document.getElementById('3d592d38-5a12-484b-acec-70d991ed7131');\n",
       "var x = new MutationObserver(function (mutations, observer) {{\n",
       "        var display = window.getComputedStyle(gd).display;\n",
       "        if (!display || display === 'none') {{\n",
       "            console.log([gd, 'removed!']);\n",
       "            Plotly.purge(gd);\n",
       "            observer.disconnect();\n",
       "        }}\n",
       "}});\n",
       "\n",
       "// Listen for the removal of the full notebook cells\n",
       "var notebookContainer = gd.closest('#notebook-container');\n",
       "if (notebookContainer) {{\n",
       "    x.observe(notebookContainer, {childList: true});\n",
       "}}\n",
       "\n",
       "// Listen for the clearing of the current output cell\n",
       "var outputEl = gd.closest('.output');\n",
       "if (outputEl) {{\n",
       "    x.observe(outputEl, {childList: true});\n",
       "}}\n",
       "\n",
       "                        })                };                });            </script>        </div>"
      ]
     },
     "metadata": {},
     "output_type": "display_data"
    }
   ],
   "source": [
    "import plotly.express as px\n",
    "\n",
    "labels = {\n",
    "    str(i): f\"PC {i+1} ({var:.1f}%)\"\n",
    "    for i, var in enumerate(pcaer.explained_variance_ratio_ * 100)\n",
    "}\n",
    "\n",
    "fig = px.scatter_matrix(\n",
    "    X_transformed,\n",
    "    labels=labels,\n",
    "    dimensions=range(4),\n",
    "    color=y\n",
    ")\n",
    "fig.update_traces(diagonal_visible=False)\n",
    "fig.show()"
   ]
  },
  {
   "cell_type": "code",
   "execution_count": null,
   "metadata": {},
   "outputs": [],
   "source": []
  }
 ],
 "metadata": {
  "kernelspec": {
   "display_name": "Python 3 (ipykernel)",
   "language": "python",
   "name": "python3"
  },
  "language_info": {
   "codemirror_mode": {
    "name": "ipython",
    "version": 3
   },
   "file_extension": ".py",
   "mimetype": "text/x-python",
   "name": "python",
   "nbconvert_exporter": "python",
   "pygments_lexer": "ipython3",
   "version": "3.9.12"
  }
 },
 "nbformat": 4,
 "nbformat_minor": 4
}
