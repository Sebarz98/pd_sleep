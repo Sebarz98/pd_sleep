{
 "cells": [
  {
   "cell_type": "code",
   "execution_count": 1,
   "id": "867500ee-5a61-463d-8bd3-8809fdef9fed",
   "metadata": {},
   "outputs": [],
   "source": [
    "import pandas as pd\n",
    "import numpy as np\n",
    "import matplotlib.pyplot as plt\n",
    "from sklearn.model_selection import train_test_split\n",
    "from sklearn import metrics\n",
    "from sklearn.decomposition import PCA\n",
    "from matplotlib.pyplot import figure\n",
    "plt.style.use('seaborn')\n",
    "from sklearn import metrics\n",
    "from sklearn.ensemble import RandomForestClassifier\n",
    "from sklearn.model_selection import (\n",
    "    KFold,\n",
    "    RepeatedStratifiedKFold,\n",
    "    cross_val_score,\n",
    "    train_test_split,\n",
    ")\n",
    "np.random.seed(3)\n"
   ]
  },
  {
   "cell_type": "code",
   "execution_count": 4,
   "id": "005c4577-7e06-4381-841f-97ae1d10bd18",
   "metadata": {},
   "outputs": [],
   "source": [
    "path = \"../data/\"\n",
    "\n",
    "df = pd.read_csv(path + \"VBM_data.csv\")\n",
    "X = df.loc[:, df.columns.drop([\"Subjectt\", \"Sex\", \"Chr\", \"PD\", \"PSQI\"])]\n",
    "\n",
    "y = df.pop(\"PD\")\n",
    "\n",
    "for column in X.columns:\n",
    "    if X[column].dtype == 'object':\n",
    "        X[column] = X[column].apply(lambda x: str(x.replace(',', '')))\n",
    "        X[column] = X[column].astype('float')\n",
    "\n",
    "\n",
    "X_train, X_test, y_train, y_test = train_test_split(X, y, test_size=0.3)\n"
   ]
  },
  {
   "cell_type": "code",
   "execution_count": 5,
   "id": "8a6ebabb-7b59-49bb-a42d-e872a8797dd5",
   "metadata": {},
   "outputs": [
    {
     "data": {
      "image/png": "[encoded data removed]",
      "text/plain": [
       "<Figure size 720x504 with 1 Axes>"
      ]
     },
     "metadata": {
      "needs_background": "light"
     },
     "output_type": "display_data"
    }
   ],
   "source": [
    "def make_pcc(X_train, X_test, y_train, y_test):\n",
    "    number_of_feature_columns = X_train.shape[1]\n",
    "    accuracy_history = []\n",
    "    components = [i+1 for i in range(25)]\n",
    "    \n",
    "    for i in range(1, 26):\n",
    "        pca = PCA(n_components=i)\n",
    "        pca.fit(X_train)\n",
    "        X_train_pca = pca.transform(X_train)\n",
    "        X_test_pca = pca.transform(X_test)\n",
    "        clf = RandomForestClassifier()\n",
    "        clf.fit(X_train_pca, y_train)\n",
    "        y_pred = clf.predict(X_test_pca)\n",
    "        accuracy_history.append(metrics.accuracy_score(y_test, y_pred))\n",
    "    assert len(accuracy_history) == len(components)\n",
    "    figure(figsize=(10,7))\n",
    "    plt.bar(components , accuracy_history)\n",
    "    plt.xlabel('PCs')\n",
    "    plt.ylabel('Accuracy')\n",
    "    plt.show()\n",
    "    \n",
    "make_pcc(X_train, X_test, y_train, y_test)"
   ]
  },
  {
   "cell_type": "code",
   "execution_count": null,
   "id": "d80f6485-8550-457a-b71e-9c1be7350127",
   "metadata": {},
   "outputs": [],
   "source": []
  },
  {
   "cell_type": "code",
   "execution_count": null,
   "id": "4550956e-51a4-433a-ac3f-e746733b8620",
   "metadata": {},
   "outputs": [],
   "source": []
  }
 ],
 "metadata": {
  "kernelspec": {
   "display_name": "Python 3 (ipykernel)",
   "language": "python",
   "name": "python3"
  },
  "language_info": {
   "codemirror_mode": {
    "name": "ipython",
    "version": 3
   },
   "file_extension": ".py",
   "mimetype": "text/x-python",
   "name": "python",
   "nbconvert_exporter": "python",
   "pygments_lexer": "ipython3",
   "version": "3.9.12"
  }
 },
 "nbformat": 4,
 "nbformat_minor": 5
}
