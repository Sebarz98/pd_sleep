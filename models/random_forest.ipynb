{
 "cells": [
  {
   "cell_type": "code",
   "execution_count": 21,
   "id": "01f07396-0c6f-454f-adbd-96bab40b8c6b",
   "metadata": {},
   "outputs": [],
   "source": [
    "import pandas as pd\n",
    "import sklearn\n",
    "from numpy import float16, mean, std\n",
    "from sklearn import metrics\n",
    "from sklearn.datasets import make_classification\n",
    "from sklearn.ensemble import RandomForestClassifier\n",
    "from sklearn.model_selection import (\n",
    "    KFold,\n",
    "    RepeatedStratifiedKFold,\n",
    "    cross_val_score,\n",
    "    train_test_split,\n",
    ")\n",
    "import math\n",
    "import seaborn as sns\n",
    "import matplotlib.pyplot as plt"
   ]
  },
  {
   "cell_type": "code",
   "execution_count": 22,
   "id": "e769704f",
   "metadata": {},
   "outputs": [],
   "source": [
    "path = \"../data/\"\n",
    "\n",
    "df = pd.read_csv(path + \"VBM_data.csv\")\n",
    "\n",
    "\n",
    "def train_test(data: pd.DataFrame):\n",
    "    \n",
    "    \"\"\"Return train-test subjects\"\"\"\n",
    "\n",
    "    pd_patients = data[:14]\n",
    "    sleep_patients = data[14:]\n",
    "\n",
    "    print(f\"number of sleep patients: {len(sleep_patients)}\")\n",
    "    print(f\"number of PD patients: {len(pd_patients)}\")\n",
    "\n",
    "    number_of_train_pd = math.floor(0.6 * len(pd_patients))  # = 8\n",
    "    number_of_train_sleep = math.floor(0.6 * len(sleep_patients))  # = 14\n",
    "    train_pd = pd_patients[:number_of_train_pd]\n",
    "    train_sleep = sleep_patients[:number_of_train_sleep]\n",
    "\n",
    "    test_pd = pd_patients[number_of_train_pd:]\n",
    "    test_sleep = sleep_patients[number_of_train_sleep:]\n",
    "\n",
    "    assert len(train_pd) + len(test_pd) == len(pd_patients)\n",
    "    assert len(train_sleep) + len(test_sleep) == len(sleep_patients)\n",
    "\n",
    "    train = pd.concat([train_pd, train_sleep])\n",
    "    test = pd.concat([test_pd, test_sleep])\n",
    "\n",
    "    return train, test\n"
   ]
  },
  {
   "cell_type": "code",
   "execution_count": 23,
   "id": "d552456e-3f29-45b2-9e47-7f9719383326",
   "metadata": {},
   "outputs": [
    {
     "name": "stdout",
     "output_type": "stream",
     "text": [
      "number of sleep patients: 24\n",
      "number of PD patients: 14\n",
      "Accuracy:  0.8125\n"
     ]
    }
   ],
   "source": [
    "train, test = train_test(df)\n",
    "\n",
    "X_train = train.loc[:, df.columns.drop([\"Subjectt\", \"Sex\", \"Chr\", \"PD\"])]\n",
    "X_test = test.loc[:, df.columns.drop([\"Subjectt\", \"Sex\", \"Chr\", \"PD\"])]\n",
    "\n",
    "y_train = train.pop(\"PD\")\n",
    "y_test = test.pop(\"PD\")\n",
    "\n",
    "for column in X_train.columns:\n",
    "    if X_train[column].dtype == \"object\":\n",
    "        X_train[column] = X_train[column].apply(lambda x: str(x.replace(\",\", \"\")))\n",
    "        X_train[column] = X_train[column].astype(\"float\")\n",
    "\n",
    "for column in X_test.columns:\n",
    "    if X_test[column].dtype == \"object\":\n",
    "        X_test[column] = X_test[column].apply(lambda x: str(x.replace(\",\", \"\")))\n",
    "        X_test[column] = X_test[column].astype(\"float\")\n",
    "\n",
    "clf = RandomForestClassifier(n_estimators=500)\n",
    "clf.fit(X_train, y_train)\n",
    "y_pred = clf.predict(X_test)\n",
    "print(\"Accuracy: \", metrics.accuracy_score(y_test, y_pred))"
   ]
  },
  {
   "cell_type": "code",
   "execution_count": 24,
   "id": "377ab917",
   "metadata": {},
   "outputs": [
    {
     "name": "stdout",
     "output_type": "stream",
     "text": [
      "[[10  0]\n",
      " [ 3  3]]\n"
     ]
    }
   ],
   "source": [
    "ConfusionMatrix = metrics.confusion_matrix(y_test, y_pred)\n",
    "print(ConfusionMatrix)"
   ]
  },
  {
   "cell_type": "code",
   "execution_count": 25,
   "id": "2a3824ca",
   "metadata": {},
   "outputs": [
    {
     "data": {
      "image/png": "[encoded data removed]",
      "text/plain": [
       "<Figure size 432x288 with 2 Axes>"
      ]
     },
     "metadata": {
      "needs_background": "light"
     },
     "output_type": "display_data"
    }
   ],
   "source": [
    "sns.heatmap(ConfusionMatrix, annot=True, fmt=\".3f\", linewidths=.5, square = True, cmap = 'Blues_r');\n",
    "plt.ylabel('Actual label');\n",
    "plt.xlabel('Predicted label');\n",
    "all_sample_title = 'Accuracy Score: {0}'.format(metrics.accuracy_score(y_test, y_pred))\n",
    "plt.title(all_sample_title, size = 15);"
   ]
  }
 ],
 "metadata": {
  "kernelspec": {
   "display_name": "Python 3 (ipykernel)",
   "language": "python",
   "name": "python3"
  },
  "language_info": {
   "codemirror_mode": {
    "name": "ipython",
    "version": 3
   },
   "file_extension": ".py",
   "mimetype": "text/x-python",
   "name": "python",
   "nbconvert_exporter": "python",
   "pygments_lexer": "ipython3",
   "version": "3.9.12"
  }
 },
 "nbformat": 4,
 "nbformat_minor": 5
}
